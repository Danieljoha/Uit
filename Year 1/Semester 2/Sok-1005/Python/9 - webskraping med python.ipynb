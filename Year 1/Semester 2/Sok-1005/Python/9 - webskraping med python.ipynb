{
 "cells": [
  {
   "cell_type": "markdown",
   "id": "14d1a27b",
   "metadata": {},
   "source": [
    "##### [< Forrige](8%20-%20git%2C%20pythonfiler%20og%20IDE.ipynb)     |     [Neste >](10%20-%20statsmodels.ipynb)"
   ]
  },
  {
   "cell_type": "markdown",
   "id": "f0d23649-641d-4bc9-b58e-7186f173b629",
   "metadata": {
    "jp-MarkdownHeadingCollapsed": true,
    "tags": []
   },
   "source": [
    "<span style=\"color:#9bb1d4;font-size:30px;font-weight:900\"> 9 - webskraping med python </span>  "
   ]
  },
  {
   "cell_type": "markdown",
   "id": "466cab53",
   "metadata": {},
   "source": [
    "# HTML-kode\n",
    "\n",
    "Når vi skal skrape nettsider, analyserer vi \"kildekoden\" som ligger bak nettsiden. I de fleste nettleser kan du enkelt se kildekoden ved å høyreklikke på siden og velge \"view page source\" eller lignende. I denne leksjonen skal vi begynne med å skrape rentebarometeret til Norsk Famileøkonomi. For å se hva vi skal skrape kan du derfor gå til [https://www.norskfamilie.no/barometre/rentebarometer/](https://www.norskfamilie.no/barometre/rentebarometer/), høyreklikke og velge å se kildekoden. \n",
    "\n",
    "Elementer er markert i en nettside med såkalte \"html-tagger\". For eksempel lager du kursiv på en nettside ved å skrive `<i>kursiv</i>`. Denne teksten er skrevet i \"markdown\", som også forstår html-tagger. <i>Om du leser dette interaktivt i en jupyterfil kan du dobbelklikke her og se at denne setningen er skrevet inne i kursivtagger</i>.\n",
    "\n",
    "Når vi skraper websider er innholdet vi er interessert i veldig ofte inne i en tabell. Det er det her også. Gjør et tekstsøk i kildekoden etter \"\\<table\". Det finnes kun én plass i dokumentet, og markerer begynnelsen på tabellen. Søker du én gang til med \"\\</table\\>\" finner du hvor tabellen ender. \n",
    "\n",
    "I mellom disse taggene er det en god del kode som kanskje ser veldig komplisert ut. Men vi trenger kun å forholde oss til følgende tre typer tagger:\n",
    "\n",
    "* `<tr>`: rad\n",
    "* `<th>`: overskrift\n",
    "* `<td>`: celle\n",
    "\n",
    "For å hente ut innholdet i tabellen må vi altså søke etter disse taggene, etter at vi har identifisere teksten mellom \"tabell\"-taggene. Det finnes heldigvis et veldig godt verktøy for dette i python, som heter `BeutifulSoup` (`pip install beautifulsoup4` i kommandovinduet om det ikke er installert). \n",
    "\n",
    "Med dette verktøyet kan du enkelt finne de taggene du ønsker. Vi starter med å finne selve tabellen, etter å ha bruke pakken `requests` til å laste ned html-filen:\n",
    "\n",
    "#### Eksempel 1:"
   ]
  },
  {
   "cell_type": "code",
   "execution_count": 1,
   "id": "1b8a0b91",
   "metadata": {},
   "outputs": [
    {
     "name": "stdout",
     "output_type": "stream",
     "text": [
      "<table class=\"table table-striped table-hover barometer\">\n",
      "<thead>\n",
      "<tr>\n",
      "<th> </th>\n",
      "<th>Bank</th>\n",
      "<th> </th>\n",
      "<th class=\"d-none d-sm-table-cell\">Navn</th>\n",
      "<th>Nominell</th>\n",
      "<th class=\"d-none d-sm-table-cell\">Sikkerhets<br/>gebyr</th>\n",
      "<th class=\"d-none d-sm-table-cell\">Etablerings<br/>gebyr</th>\n",
      "<th class=\"d-none d-sm-table-cell\">Termin</th>\n",
      "<th>Effektiv</th>\n",
      "</tr>\n",
      "</thead>\n",
      "<tbody>\n",
      "<tr>\n",
      "<td>1</td>\n",
      "<td>Nordnet Bank (Nordnet Bank AB)</td>\n",
      "<td>\n",
      "<button class=\"popover_info btn btn-none\" data-html=\"true\" data-placement=\"left\" data-toggle=\"tooltip\" title=\"Nominell: &lt;strong&gt;3,39&lt;/strong&gt;&lt;br&gt;Sikkerhetsgebyr: &lt;strong&gt;0&lt;/strong&gt;&lt;br&gt;Etableringsgebyr: &lt;strong&gt;0&lt;/strong&gt;&lt;br&gt;Termingebyr: &lt;strong&gt;0&lt;/strong&gt;&lt;br&gt;Effektiv rente: &lt;strong&gt;3,44&lt;/strong&gt;&lt;br&gt;&lt;br&gt;Nordnets boliglån har en basis- eller startrente på 5,09 %. Rentenivå 4 = egenkapital over 10 millioner kroner. Du får en renterabatt som blir større avhengig\n"
     ]
    }
   ],
   "source": [
    "from bs4 import BeautifulSoup\n",
    "import requests\n",
    "\n",
    "def fetch_html_tables(url):\n",
    "    \"Returns a list of tables in the html of url\"\n",
    "    page = requests.get(url)\n",
    "    bs=BeautifulSoup(page.content)\n",
    "    tables=bs.find_all('table')\n",
    "    return tables\n",
    "\n",
    "tables=fetch_html_tables('https://www.norskfamilie.no/barometre/rentebarometer/')\n",
    "table_html=tables[0]\n",
    "\n",
    "#printing top\n",
    "print(str(table_html)[:1000])"
   ]
  },
  {
   "cell_type": "markdown",
   "id": "00466c08",
   "metadata": {},
   "source": [
    "# Få tak i HTML-tabellene\n",
    "\n",
    "Det vi får ut med `bs.find_all('table')` er altså en liste med alle partier i teksten med matchende `<table>`-`</table>`-tagger. I dette dokumentet er det bare én tabell, så listen har bare ett element. Vi må nå søke videre inne i tabellen etter innholdstaggene. Vi bruker samme funksjon til det. Her er to funksjoner som sammen finner innholdstaggene og returnerer en tabell:\n",
    "\n",
    "#### Eksempel 2:"
   ]
  },
  {
   "cell_type": "code",
   "execution_count": 2,
   "id": "777e87b1",
   "metadata": {},
   "outputs": [
    {
     "name": "stdout",
     "output_type": "stream",
     "text": [
      "[['', 'Bank', '', 'Navn', 'Nominell', 'Sikkerhetsgebyr', 'Etableringsgebyr', 'Termin', 'Effektiv'], ['1', 'Nordnet Bank (Nordnet Bank AB)', '', 'Boliglån Private Banking (nivå 4)', '3,39', '0', '0', '0', '3,44'], ['2', 'Statens pensjonskasse', '', 'Boliglån inntil 80 %', '3,35', '0', '0', '50', '3,46'], ['3', 'Høland og Setskog Sparebank', '', 'Grønt Boliglån spesial', '3,54', '0', '0', '75', '3,69'], ['4', 'Nordnet Bank (Nordnet Bank AB)', '', 'Boliglån Private Banking (nivå 3)', '3,74', '0', '0', '0', '3,80'], ['5', 'Bulder (Sparebanken Vest)', '', 'Boliglån innenfor 50 %', '3,78', '0', '0', '0', '3,85'], ['6', 'OBOS-banken AS', '', 'Grønt boliglån', '3,75', '0', '0', '35', '3,86'], ['7', 'Bulder (Sparebanken Vest)', '', 'Boliglån innenfor 55 %', '3,86', '0', '0', '0', '3,93'], ['8', 'Sbanken ASA', '', 'Boliglån 50 % - lån til fritidsbolig', '3,88', '0', '0', '0', '3,95'], ['9', 'Sbanken ASA', '', 'Boliglån 50 %', '3,88', '0', '0', '0', '3,95'], ['10', 'NORDEA BANK ABP, FILIAL I NORG\n"
     ]
    }
   ],
   "source": [
    "def html_to_table(html):\n",
    "    \"Returns the table defined in html as a list\"\n",
    "    #defining the table:\n",
    "    table=[]\n",
    "    #iterating over all rows\n",
    "    for row in html.find_all('tr'):\n",
    "        r=[]\n",
    "        #finding all cells in each row:\n",
    "        cells=row.find_all('td')\n",
    "        \n",
    "        #if no cells are found, look for headings\n",
    "        if len(cells)==0:\n",
    "            cells=row.find_all('th')\n",
    "            \n",
    "        #iterate over cells:\n",
    "        for cell in cells:\n",
    "            cell=format(cell)\n",
    "            r.append(cell)\n",
    "        \n",
    "        #append the row to t:\n",
    "        table.append(r)\n",
    "    return table\n",
    "\n",
    "def format(cell):\n",
    "    \"Returns a string after converting bs4 object cell to clean text\"\n",
    "    if cell.content is None:\n",
    "        s=cell.text\n",
    "    elif len(cell.content)==0:\n",
    "        return ''\n",
    "    else:\n",
    "        s=' '.join([str(c) for c in cell.content])\n",
    "        \n",
    "    #here you can add additional characters/strings you want to \n",
    "    #remove, change punctuations or format the string in other\n",
    "    #ways:\n",
    "    s=s.replace('\\xa0','')\n",
    "    s=s.replace('\\n','')\n",
    "    return s\n",
    "\n",
    "table=html_to_table(table_html)\n",
    "\n",
    "#printing top\n",
    "print(str(table)[:1000])"
   ]
  },
  {
   "cell_type": "markdown",
   "id": "7e208de8-e45e-49eb-967d-d24b8f331543",
   "metadata": {},
   "source": [
    "Den første funksjonen itererer over tabellceller, mens den andre funksjonen konverterer innholdet fra et bs4-objekt med html-kode til leselig tekst. \n",
    "\n",
    "# Lagre tabellen\n",
    "\n",
    "Vi har nå skrapet siden, og hentet ut tabellen. For å gjøre den mer leselig, kan vi lagre den som en fil. Når vi lager filer i python bruker vi den innebygde `open`-funksjonen. Om vi kaller filen for \"rentebarometer.csv\", kan vi opprette filen ved å kjøre `f=open('rentebarometer.csv','w')`. Strengen `'w'` betyr at vi åpner filen for skriving (*writing*, i motsetning til lesing/*reading* markert med `'r'`. Vi fyller filen med innhold med `f.write()`. \n",
    "\n",
    "For å skille kolonnene skal vi her bruke semikolon ';'. Python har en enkel måte å konvertere en liste til en streng med skilletegn. En tar utgangspunkt i skilletegnet, og bruker metoden `join()` på det. For eksempel: \n",
    "\n",
    "#### Eksempel 3:"
   ]
  },
  {
   "cell_type": "code",
   "execution_count": 3,
   "id": "2b65a199",
   "metadata": {},
   "outputs": [
    {
     "data": {
      "text/plain": [
       "';Bank;;Navn;Nominell;Sikkerhetsgebyr;Etableringsgebyr;Termin;Effektiv'"
      ]
     },
     "execution_count": 3,
     "metadata": {},
     "output_type": "execute_result"
    }
   ],
   "source": [
    "';'.join(table[0])"
   ]
  },
  {
   "cell_type": "markdown",
   "id": "288e475d",
   "metadata": {},
   "source": [
    "Vi kan nå åpne filen for skriving og iterere over rader og skrive dem til filen. \n",
    "\n",
    "#### Eksempel 4:"
   ]
  },
  {
   "cell_type": "code",
   "execution_count": 4,
   "id": "51d8ba52",
   "metadata": {},
   "outputs": [],
   "source": [
    "def save_data(file_name,table):\n",
    "    \"Saves table to file_name\"\n",
    "    f=open(file_name,'w')\n",
    "    for row in table:\n",
    "        f.write(';'.join(row)+'\\n')\n",
    "    f.close()\n",
    "    \n",
    "save_data('rentebarometer.csv',table)"
   ]
  },
  {
   "cell_type": "markdown",
   "id": "5e599b25",
   "metadata": {},
   "source": [
    "Vi kan ta en kikk på dataene med Pandas (`encoding='latin1'` er for å få med æ,ø,å):\n",
    "\n",
    "#### Eksempel 5:"
   ]
  },
  {
   "cell_type": "code",
   "execution_count": 5,
   "id": "637b94af",
   "metadata": {},
   "outputs": [
    {
     "data": {
      "text/html": [
       "<div>\n",
       "<style scoped>\n",
       "    .dataframe tbody tr th:only-of-type {\n",
       "        vertical-align: middle;\n",
       "    }\n",
       "\n",
       "    .dataframe tbody tr th {\n",
       "        vertical-align: top;\n",
       "    }\n",
       "\n",
       "    .dataframe thead th {\n",
       "        text-align: right;\n",
       "    }\n",
       "</style>\n",
       "<table border=\"1\" class=\"dataframe\">\n",
       "  <thead>\n",
       "    <tr style=\"text-align: right;\">\n",
       "      <th></th>\n",
       "      <th>Unnamed: 0</th>\n",
       "      <th>Bank</th>\n",
       "      <th>Unnamed: 2</th>\n",
       "      <th>Navn</th>\n",
       "      <th>Nominell</th>\n",
       "      <th>Sikkerhetsgebyr</th>\n",
       "      <th>Etableringsgebyr</th>\n",
       "      <th>Termin</th>\n",
       "      <th>Effektiv</th>\n",
       "    </tr>\n",
       "  </thead>\n",
       "  <tbody>\n",
       "    <tr>\n",
       "      <th>0</th>\n",
       "      <td>1</td>\n",
       "      <td>Nordnet Bank (Nordnet Bank AB)</td>\n",
       "      <td>NaN</td>\n",
       "      <td>Boliglån Private Banking (nivå 4)</td>\n",
       "      <td>3,39</td>\n",
       "      <td>0</td>\n",
       "      <td>0</td>\n",
       "      <td>0</td>\n",
       "      <td>3,44</td>\n",
       "    </tr>\n",
       "    <tr>\n",
       "      <th>1</th>\n",
       "      <td>2</td>\n",
       "      <td>Statens pensjonskasse</td>\n",
       "      <td>NaN</td>\n",
       "      <td>Boliglån inntil 80 %</td>\n",
       "      <td>3,35</td>\n",
       "      <td>0</td>\n",
       "      <td>0</td>\n",
       "      <td>50</td>\n",
       "      <td>3,46</td>\n",
       "    </tr>\n",
       "    <tr>\n",
       "      <th>2</th>\n",
       "      <td>3</td>\n",
       "      <td>Høland og Setskog Sparebank</td>\n",
       "      <td>NaN</td>\n",
       "      <td>Grønt Boliglån spesial</td>\n",
       "      <td>3,54</td>\n",
       "      <td>0</td>\n",
       "      <td>0</td>\n",
       "      <td>75</td>\n",
       "      <td>3,69</td>\n",
       "    </tr>\n",
       "    <tr>\n",
       "      <th>3</th>\n",
       "      <td>4</td>\n",
       "      <td>Nordnet Bank (Nordnet Bank AB)</td>\n",
       "      <td>NaN</td>\n",
       "      <td>Boliglån Private Banking (nivå 3)</td>\n",
       "      <td>3,74</td>\n",
       "      <td>0</td>\n",
       "      <td>0</td>\n",
       "      <td>0</td>\n",
       "      <td>3,80</td>\n",
       "    </tr>\n",
       "    <tr>\n",
       "      <th>4</th>\n",
       "      <td>5</td>\n",
       "      <td>Bulder (Sparebanken Vest)</td>\n",
       "      <td>NaN</td>\n",
       "      <td>Boliglån innenfor 50 %</td>\n",
       "      <td>3,78</td>\n",
       "      <td>0</td>\n",
       "      <td>0</td>\n",
       "      <td>0</td>\n",
       "      <td>3,85</td>\n",
       "    </tr>\n",
       "    <tr>\n",
       "      <th>...</th>\n",
       "      <td>...</td>\n",
       "      <td>...</td>\n",
       "      <td>...</td>\n",
       "      <td>...</td>\n",
       "      <td>...</td>\n",
       "      <td>...</td>\n",
       "      <td>...</td>\n",
       "      <td>...</td>\n",
       "      <td>...</td>\n",
       "    </tr>\n",
       "    <tr>\n",
       "      <th>383</th>\n",
       "      <td>384</td>\n",
       "      <td>INSTABANK ASA</td>\n",
       "      <td>NaN</td>\n",
       "      <td>Lån med sikkerhet</td>\n",
       "      <td>6,49</td>\n",
       "      <td>0</td>\n",
       "      <td>5000</td>\n",
       "      <td>50</td>\n",
       "      <td>6,75</td>\n",
       "    </tr>\n",
       "    <tr>\n",
       "      <th>384</th>\n",
       "      <td>385</td>\n",
       "      <td>Vekselbanken</td>\n",
       "      <td>NaN</td>\n",
       "      <td>Bustadlån innanfor 85%</td>\n",
       "      <td>6,65</td>\n",
       "      <td>0</td>\n",
       "      <td>1000</td>\n",
       "      <td>65</td>\n",
       "      <td>6,94</td>\n",
       "    </tr>\n",
       "    <tr>\n",
       "      <th>385</th>\n",
       "      <td>386</td>\n",
       "      <td>Bank2 ASA</td>\n",
       "      <td>NaN</td>\n",
       "      <td>Refinansiering</td>\n",
       "      <td>6,74</td>\n",
       "      <td>0</td>\n",
       "      <td>20000</td>\n",
       "      <td>75</td>\n",
       "      <td>7,05</td>\n",
       "    </tr>\n",
       "    <tr>\n",
       "      <th>386</th>\n",
       "      <td>387</td>\n",
       "      <td>yA Bank AS (Resurs Bank AB)</td>\n",
       "      <td>NaN</td>\n",
       "      <td>Lån med sikkerhet i bolig</td>\n",
       "      <td>6,99</td>\n",
       "      <td>0</td>\n",
       "      <td>4000</td>\n",
       "      <td>50</td>\n",
       "      <td>7,28</td>\n",
       "    </tr>\n",
       "    <tr>\n",
       "      <th>387</th>\n",
       "      <td>388</td>\n",
       "      <td>Kraft Bank ASA</td>\n",
       "      <td>NaN</td>\n",
       "      <td>2. prioritetslån</td>\n",
       "      <td>7,95</td>\n",
       "      <td>0</td>\n",
       "      <td>0</td>\n",
       "      <td>75</td>\n",
       "      <td>8,34</td>\n",
       "    </tr>\n",
       "  </tbody>\n",
       "</table>\n",
       "<p>388 rows × 9 columns</p>\n",
       "</div>"
      ],
      "text/plain": [
       "     Unnamed: 0                            Bank  Unnamed: 2  \\\n",
       "0             1  Nordnet Bank (Nordnet Bank AB)         NaN   \n",
       "1             2           Statens pensjonskasse         NaN   \n",
       "2             3     Høland og Setskog Sparebank         NaN   \n",
       "3             4  Nordnet Bank (Nordnet Bank AB)         NaN   \n",
       "4             5       Bulder (Sparebanken Vest)         NaN   \n",
       "..          ...                             ...         ...   \n",
       "383         384                   INSTABANK ASA         NaN   \n",
       "384         385                    Vekselbanken         NaN   \n",
       "385         386                       Bank2 ASA         NaN   \n",
       "386         387     yA Bank AS (Resurs Bank AB)         NaN   \n",
       "387         388                  Kraft Bank ASA         NaN   \n",
       "\n",
       "                                  Navn Nominell  Sikkerhetsgebyr  \\\n",
       "0    Boliglån Private Banking (nivå 4)     3,39                0   \n",
       "1                 Boliglån inntil 80 %     3,35                0   \n",
       "2               Grønt Boliglån spesial     3,54                0   \n",
       "3    Boliglån Private Banking (nivå 3)     3,74                0   \n",
       "4               Boliglån innenfor 50 %     3,78                0   \n",
       "..                                 ...      ...              ...   \n",
       "383                  Lån med sikkerhet     6,49                0   \n",
       "384             Bustadlån innanfor 85%     6,65                0   \n",
       "385                     Refinansiering     6,74                0   \n",
       "386          Lån med sikkerhet i bolig     6,99                0   \n",
       "387                   2. prioritetslån     7,95                0   \n",
       "\n",
       "     Etableringsgebyr  Termin Effektiv  \n",
       "0                   0       0     3,44  \n",
       "1                   0      50     3,46  \n",
       "2                   0      75     3,69  \n",
       "3                   0       0     3,80  \n",
       "4                   0       0     3,85  \n",
       "..                ...     ...      ...  \n",
       "383              5000      50     6,75  \n",
       "384              1000      65     6,94  \n",
       "385             20000      75     7,05  \n",
       "386              4000      50     7,28  \n",
       "387                 0      75     8,34  \n",
       "\n",
       "[388 rows x 9 columns]"
      ]
     },
     "execution_count": 5,
     "metadata": {},
     "output_type": "execute_result"
    }
   ],
   "source": [
    "import pandas as pd\n",
    "pd.read_csv('rentebarometer.csv', delimiter=';', encoding='latin1')"
   ]
  },
  {
   "cell_type": "markdown",
   "id": "9192af14",
   "metadata": {},
   "source": [
    "# En funksjon som skraper alle tabeller på en side\n",
    "\n",
    "Vi kan sammenfatte stegene over i én funksjon, som anvender\n",
    "\n",
    "#### Eksempel 6:"
   ]
  },
  {
   "cell_type": "code",
   "execution_count": 6,
   "id": "6c945aa9",
   "metadata": {},
   "outputs": [],
   "source": [
    "from bs4 import BeautifulSoup\n",
    "import requests\n",
    "\n",
    "def scrape(url, file_name):\n",
    "    table=[]\n",
    "    tables=fetch_html_tables(url)\n",
    "    #iterate over all tables, if there are more than one:\n",
    "    for tbl in tables:\n",
    "        #exends table so that table is a list containing elements \n",
    "        #from all tables:\n",
    "        table.extend(html_to_table(tbl))\n",
    "    #saving it:\n",
    "    save_data(file_name,table)\n",
    "    return table\n"
   ]
  },
  {
   "cell_type": "markdown",
   "id": "8b1948b2",
   "metadata": {},
   "source": [
    "Med denne koden kan vi nå skrape hvilken som helst nettside med tabeller vi ønsker å få tak i. For eksempel om vi ønsker å hente timeplanen til kurset:\n",
    "\n",
    "#### Eksempel 7:"
   ]
  },
  {
   "cell_type": "code",
   "execution_count": 7,
   "id": "c38d9a56",
   "metadata": {},
   "outputs": [
    {
     "name": "stdout",
     "output_type": "stream",
     "text": [
      "\n"
     ]
    }
   ],
   "source": [
    "url='https://timeplan.uit.no/emne_timeplan.php?sem=22v&module[]=SOK-1005-1'\n",
    "file_name='schedule.csv'\n",
    "\n",
    "table=scrape(url,file_name)\n",
    "\n",
    "s='\\n'.join(['\\t'.join(row) for row in table])\n",
    "\n",
    "\n",
    "#printing top\n",
    "print(str(s)[:1000])"
   ]
  },
  {
   "cell_type": "markdown",
   "id": "8ddeedf2",
   "metadata": {},
   "source": [
    "# Når nettsiden ikke er \"vennligsinnet\"\n",
    "\n",
    "Det er ikke alle nettsideeiere som synes det er greit at vi skraper nettsidene deres. For ordens skyld så er det altså helt lovlig å skrape nettsider. Når noen legger ut data på en nettside har de offentliggjort dataene, og kan ikke bestemme hvordan dataene skal leses. Dette gjelder selv om de legger ut beskjed om noe annet. \n",
    "\n",
    "Det som kanskje *kan* være ulovlig, er å videreformidle dataene kommersielt. \n",
    "\n",
    "Når nettsiden er vanskelig å skrape, er *selenium* av google en veldig nyttig pakke. Med den kan koden din opptre som en vanlig bruker. Så lenge du kan se dataene på skjermen din, bør det da i prinsippet være mulig å skrape enhver side. \n",
    "\n",
    "Vi har ikke tid til å gå inn på bruken av selenium i dette kurset, men her er en kode som bruker selenium til å skrape [nordpool.no](https://www.nordpoolgroup.com/Market-data1/Dayahead/Area-Prices/NO/Monthly/?view=table). De er ikke spesielt interessert i at vi gjør det, om du forsøker å skrape flere ganger kommer det opp en advarsel om at det er ulovlig, som altså ikke medfører riktighet. \n",
    "\n",
    "[Her er imidlertid en kode som gjøre det mulig å skrape Nordpools nettsider med selenium](https://github.com/espensirnes/notebooks/blob/main/res/scraping_nordpool.py)\n"
   ]
  },
  {
   "cell_type": "markdown",
   "id": "d70bd637-20c3-4f48-922a-10855766e263",
   "metadata": {},
   "source": [
    "# Oppgave\n",
    "\n",
    "Resultatet vises ved å lage en tabluatorseparert streng fordi filen ikke kan åpnes med pandas. Grunnen til det er at radene her her ulikt antall kolonner. Vi ser også at det trengs litt arbeid her for å organisere dataene bedre. Det kan du gjøre ved å redigere i funksjonene `html_to_table` og `format`. "
   ]
  },
  {
   "cell_type": "code",
   "execution_count": null,
   "id": "47ef315c",
   "metadata": {},
   "outputs": [],
   "source": []
  },
  {
   "cell_type": "markdown",
   "id": "02923370",
   "metadata": {},
   "source": [
    "##### [< Forrige](8%20-%20git%2C%20pythonfiler%20og%20IDE.ipynb)     |     [Neste >](10%20-%20statsmodels.ipynb)"
   ]
  }
 ],
 "metadata": {
  "kernelspec": {
   "display_name": "Python 3 (ipykernel)",
   "language": "python",
   "name": "python3"
  },
  "language_info": {
   "codemirror_mode": {
    "name": "ipython",
    "version": 3
   },
   "file_extension": ".py",
   "mimetype": "text/x-python",
   "name": "python",
   "nbconvert_exporter": "python",
   "pygments_lexer": "ipython3",
   "version": "3.11.2"
  }
 },
 "nbformat": 4,
 "nbformat_minor": 5
}
