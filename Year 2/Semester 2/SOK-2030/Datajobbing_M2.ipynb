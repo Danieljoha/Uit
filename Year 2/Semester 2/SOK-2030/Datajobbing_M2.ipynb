{
 "cells": [
  {
   "cell_type": "markdown",
   "metadata": {},
   "source": [
    "Olivita AS ble etablert i 2002 av to professorer fra Universitetet i Tromsø (UiT). Selskapet tilbyr kosttilskuddet Olivita, som inneholder omega-3 og er utviklet for å støtte hjerte, ledd og immunforsvar. \n",
    "Produktet har vært patentbeskyttet frem til 2023, og Olivita har hatt eksklusiv rett til produksjon av dette omega-3 produktet. Etter patentets utløp har det nye selskapet Dr Choice AS kommet på markedet og tilbyr Easy Choice Omega-3. I markedet for omega-3 produkter vil Olivita AS fortsette å være en ledende aktør, mens Dr Choice AS vil utfordre som en nykommer.\n",
    "\n",
    "I dette marked er det følgende invers etterspørsel\n",
    "$$\n",
    "P = 990 - \\frac{1}{60}(q_O + q_C)\n",
    "$$\n",
    "hvor $q_O$ er antall solgte flasker med Olivita, $q_C$ er antall solgte flasker Easy Choice Omega-3 og $P$ er pris per flaske av Omega-3 produktene. I produksjon av Omega-3 produktene vil begge bedriftene ha konstante marginalkostnader på kr 50 per produsert flaske. Faste kostnader for begge bedriftene er på 3 millioner kroner.\n",
    "\n",
    "\n",
    "## a) Hva blir optimal tilpasning i dette markedet når Olivita kan gjøre sine strategiske valg før konkurrenten, Dr Choice AS, gjør sitt valg?\n",
    "\n"
   ]
  },
  {
   "cell_type": "code",
   "execution_count": 1,
   "metadata": {},
   "outputs": [],
   "source": [
    "import sympy as sp\n",
    "from matplotlib import pyplot as plt\n",
    "import numpy as np"
   ]
  },
  {
   "cell_type": "code",
   "execution_count": 44,
   "metadata": {},
   "outputs": [],
   "source": [
    "q_O, q_C, p ,c, f, a, b, pi,i, q1, q2= sp.symbols('q_O q_C p c f a b pi i q1 q2')\n",
    "\n",
    "\n",
    "\n",
    "#c = 50\n",
    "#f = 100\n",
    "\n",
    "def P_demand(Q):\n",
    "    return 5000-(1/10)*Q\n",
    "\n",
    "\n",
    "def P_demand_oppgave(Q):\n",
    "    return 990-(1/60)*Q\n",
    "\n",
    "\n",
    "def profit_1(q1,q2):\n",
    "    return (P_demand(q1+q2)-1500)*q1-3000000\n",
    "def profit_2(q1,q2):\n",
    "    return (P_demand(q1+q2)-1800)*q2-3000000\n",
    "\n",
    "\n",
    "def profit_1_oppgave(q1,q2):\n",
    "    return (P_demand_oppgave(q1+q2)-50)*q1-3000000\n",
    "\n",
    "def profit_2_oppgave(q1,q2):\n",
    "    return (P_demand_oppgave(q1+q2)-50)*q2-3000000\n"
   ]
  },
  {
   "cell_type": "code",
   "execution_count": 51,
   "metadata": {},
   "outputs": [
    {
     "data": {
      "text/latex": [
       "$\\displaystyle - 0.1 q_{1} - 0.2 q_{2} + 3200$"
      ],
      "text/plain": [
       "-0.1*q1 - 0.2*q2 + 3200"
      ]
     },
     "execution_count": 51,
     "metadata": {},
     "output_type": "execute_result"
    }
   ],
   "source": [
    "d_profit_2=sp.diff(profit_2(q1,q2),q2)\n",
    "d_profit_2"
   ]
  },
  {
   "cell_type": "code",
   "execution_count": 52,
   "metadata": {},
   "outputs": [
    {
     "data": {
      "text/latex": [
       "$\\displaystyle 16000.0 - 0.5 q_{1}$"
      ],
      "text/plain": [
       "16000.0 - 0.5*q1"
      ]
     },
     "execution_count": 52,
     "metadata": {},
     "output_type": "execute_result"
    }
   ],
   "source": [
    "Q2_sol1=sp.solve(d_profit_2,q2)[0]\n",
    "Q2_sol1"
   ]
  },
  {
   "cell_type": "code",
   "execution_count": 53,
   "metadata": {},
   "outputs": [
    {
     "data": {
      "text/latex": [
       "$\\displaystyle 1900.0 - 0.1 q_{1}$"
      ],
      "text/plain": [
       "1900.0 - 0.1*q1"
      ]
     },
     "execution_count": 53,
     "metadata": {},
     "output_type": "execute_result"
    }
   ],
   "source": [
    "d_profit_1=sp.diff(profit_1(q1,Q2_sol1),q1)\n",
    "d_profit_1"
   ]
  },
  {
   "cell_type": "code",
   "execution_count": 54,
   "metadata": {},
   "outputs": [
    {
     "data": {
      "text/latex": [
       "$\\displaystyle 19000.0$"
      ],
      "text/plain": [
       "19000.0000000000"
      ]
     },
     "execution_count": 54,
     "metadata": {},
     "output_type": "execute_result"
    }
   ],
   "source": [
    "Q1_sol=sp.solve(d_profit_1,q1)[0]\n",
    "Q1_sol"
   ]
  },
  {
   "cell_type": "code",
   "execution_count": 55,
   "metadata": {},
   "outputs": [
    {
     "data": {
      "text/latex": [
       "$\\displaystyle 6500.0$"
      ],
      "text/plain": [
       "6500.00000000000"
      ]
     },
     "execution_count": 55,
     "metadata": {},
     "output_type": "execute_result"
    }
   ],
   "source": [
    "Q2_sol2=Q2_sol1.subs({q1:Q1_sol})\n",
    "Q2_sol2"
   ]
  },
  {
   "cell_type": "code",
   "execution_count": null,
   "metadata": {},
   "outputs": [],
   "source": []
  },
  {
   "cell_type": "code",
   "execution_count": 56,
   "metadata": {},
   "outputs": [
    {
     "data": {
      "text/latex": [
       "$\\displaystyle \\frac{c}{2} + \\frac{q_{C}}{120} - 495$"
      ],
      "text/plain": [
       "c/2 + q_C/120 - 495"
      ]
     },
     "execution_count": 56,
     "metadata": {},
     "output_type": "execute_result"
    }
   ],
   "source": [
    "#d_profit1_Q=diff(profit(q1,Q2_sol1,c,a,b),q1)\n",
    "d_profit1_Q = sp.diff(profitteq_num.rhs.subs(q_O,sp.solve(d_profit2_Q, q_O)[0]),q_C)\n",
    "d_profit1_Q"
   ]
  },
  {
   "cell_type": "code",
   "execution_count": 57,
   "metadata": {},
   "outputs": [
    {
     "data": {
      "text/latex": [
       "$\\displaystyle 59400 - 60 c$"
      ],
      "text/plain": [
       "59400 - 60*c"
      ]
     },
     "execution_count": 57,
     "metadata": {},
     "output_type": "execute_result"
    }
   ],
   "source": [
    "Q1_sol=sp.solve(d_profit1_Q, q_C)[0]\n",
    "Q1_sol"
   ]
  },
  {
   "cell_type": "code",
   "execution_count": 58,
   "metadata": {},
   "outputs": [
    {
     "data": {
      "text/latex": [
       "$\\displaystyle \\frac{a + 60 b \\left(c - 990\\right) - p}{b}$"
      ],
      "text/plain": [
       "(a + 60*b*(c - 990) - p)/b"
      ]
     },
     "execution_count": 58,
     "metadata": {},
     "output_type": "execute_result"
    }
   ],
   "source": [
    "Q2_sol2 = sp.solve(p_demand.subs(q_C,Q1_sol),q_O)[0]\n",
    "Q2_sol2"
   ]
  },
  {
   "cell_type": "code",
   "execution_count": null,
   "metadata": {},
   "outputs": [],
   "source": [
    "#P_opt=P_demand(q1,q2).subs({q1:Q1_sol,q2:Q2_sol2})\n",
    "#P_opt\n",
    "#sp.simplify(P_opt)"
   ]
  },
  {
   "cell_type": "code",
   "execution_count": 135,
   "metadata": {},
   "outputs": [
    {
     "data": {
      "text/latex": [
       "$\\displaystyle q_{1} \\left(- 0.0166666666666667 q_{1} - 0.0166666666666667 q_{2} + 940\\right) - 3000000$"
      ],
      "text/plain": [
       "q1*(-0.0166666666666667*q1 - 0.0166666666666667*q2 + 940) - 3000000"
      ]
     },
     "execution_count": 135,
     "metadata": {},
     "output_type": "execute_result"
    }
   ],
   "source": [
    "profit_1_oppgave(q1,q2)"
   ]
  },
  {
   "cell_type": "code",
   "execution_count": 169,
   "metadata": {},
   "outputs": [
    {
     "data": {
      "text/latex": [
       "$\\displaystyle π_{O} = q_{C} \\left(- 0.0166666666666667 q_{C} - 0.0166666666666667 q_{O} + 940\\right) - 3000000$"
      ],
      "text/plain": [
       "Eq(π_O, q_C*(-0.0166666666666667*q_C - 0.0166666666666667*q_O + 940) - 3000000)"
      ]
     },
     "execution_count": 169,
     "metadata": {},
     "output_type": "execute_result"
    }
   ],
   "source": [
    "profitt_1_eq"
   ]
  },
  {
   "cell_type": "code",
   "execution_count": 139,
   "metadata": {},
   "outputs": [
    {
     "data": {
      "text/latex": [
       "$\\displaystyle - 0.0166666666666667 q_{1} - 0.0166666666666667 q_{2} + 990$"
      ],
      "text/plain": [
       "-0.0166666666666667*q1 - 0.0166666666666667*q2 + 990"
      ]
     },
     "execution_count": 139,
     "metadata": {},
     "output_type": "execute_result"
    }
   ],
   "source": [
    "P_demand_oppgave(q1+q2)"
   ]
  },
  {
   "cell_type": "code",
   "execution_count": 138,
   "metadata": {},
   "outputs": [
    {
     "data": {
      "text/latex": [
       "$\\displaystyle q_{1} \\left(- 0.0166666666666667 q_{1} - 0.0166666666666667 q_{2} + 940\\right) - 3000000$"
      ],
      "text/plain": [
       "q1*(-0.0166666666666667*q1 - 0.0166666666666667*q2 + 940) - 3000000"
      ]
     },
     "execution_count": 138,
     "metadata": {},
     "output_type": "execute_result"
    }
   ],
   "source": [
    "(P_demand_oppgave(q1+q2)-50)*q1-3000000"
   ]
  },
  {
   "cell_type": "code",
   "execution_count": 168,
   "metadata": {},
   "outputs": [],
   "source": [
    "q_O, q_C, p, c, f, pi_C, pi_O= sp.symbols('q_O q_C p c f \\u03C0_C \\u03C0_O')\n",
    "\n",
    "Invers_etterspors = sp.Eq(p, (990-(1/60)*(q_C+q_O)))\n",
    "\n",
    "\n",
    "profitt_1_eq = sp.Eq(pi_O, (Invers_etterspors.rhs-50)*q_C-3000000)\n",
    "profitt_2_eq = sp.Eq(pi_C, (Invers_etterspors.rhs-50)*q_O-3000000)"
   ]
  },
  {
   "cell_type": "code",
   "execution_count": 159,
   "metadata": {},
   "outputs": [
    {
     "data": {
      "text/latex": [
       "$\\displaystyle - 0.0166666666666667 q_{C} - 0.0333333333333333 q_{O} + 940$"
      ],
      "text/plain": [
       "-0.0166666666666667*q_C - 0.0333333333333333*q_O + 940"
      ]
     },
     "execution_count": 159,
     "metadata": {},
     "output_type": "execute_result"
    }
   ],
   "source": [
    "derivert_profitt_2 = sp.diff(profitt_2_eq.rhs, q_O)\n",
    "derivert_profitt_2"
   ]
  },
  {
   "cell_type": "code",
   "execution_count": 192,
   "metadata": {},
   "outputs": [
    {
     "data": {
      "text/latex": [
       "$\\displaystyle 28200.0 - 0.5 q_{C}$"
      ],
      "text/plain": [
       "28200.0 - 0.5*q_C"
      ]
     },
     "execution_count": 192,
     "metadata": {},
     "output_type": "execute_result"
    }
   ],
   "source": [
    "reaksjon_olivitas = sp.solve(derivert_profitt_2, q_O)[0]\n",
    "reaksjon_olivitas"
   ]
  },
  {
   "cell_type": "code",
   "execution_count": 193,
   "metadata": {},
   "outputs": [
    {
     "data": {
      "text/latex": [
       "$\\displaystyle π_{O} = q_{C} \\left(470.0 - 0.00833333333333333 q_{C}\\right) - 3000000$"
      ],
      "text/plain": [
       "Eq(π_O, q_C*(470.0 - 0.00833333333333333*q_C) - 3000000)"
      ]
     },
     "execution_count": 193,
     "metadata": {},
     "output_type": "execute_result"
    }
   ],
   "source": [
    "#setter inn i profitt 1\n",
    "\n",
    "profitt_1_eq = profitt_1_eq.subs(q_O, reaksjon_olivitas)\n",
    "profitt_1_eq"
   ]
  },
  {
   "cell_type": "code",
   "execution_count": 194,
   "metadata": {},
   "outputs": [
    {
     "data": {
      "text/latex": [
       "$\\displaystyle 470.0 - 0.0166666666666667 q_{C}$"
      ],
      "text/plain": [
       "470.0 - 0.0166666666666667*q_C"
      ]
     },
     "execution_count": 194,
     "metadata": {},
     "output_type": "execute_result"
    }
   ],
   "source": [
    "derivert_profitt1 = sp.diff(profitt_1_eq.rhs, q_C) #kvantum for olivitas\n",
    "derivert_profitt1\n"
   ]
  },
  {
   "cell_type": "code",
   "execution_count": 195,
   "metadata": {},
   "outputs": [
    {
     "data": {
      "text/latex": [
       "$\\displaystyle - 0.0166666666666667 q_{C} - 0.0333333333333333 q_{O} + 940$"
      ],
      "text/plain": [
       "-0.0166666666666667*q_C - 0.0333333333333333*q_O + 940"
      ]
     },
     "execution_count": 195,
     "metadata": {},
     "output_type": "execute_result"
    }
   ],
   "source": [
    "\n",
    "derivert_profitt2 = sp.diff(profitt_2_eq.rhs, q_O)\n",
    "derivert_profitt2"
   ]
  },
  {
   "cell_type": "code",
   "execution_count": null,
   "metadata": {},
   "outputs": [],
   "source": []
  },
  {
   "cell_type": "code",
   "execution_count": 196,
   "metadata": {},
   "outputs": [
    {
     "data": {
      "text/latex": [
       "$\\displaystyle 28200.0$"
      ],
      "text/plain": [
       "28200.0000000000"
      ]
     },
     "execution_count": 196,
     "metadata": {},
     "output_type": "execute_result"
    }
   ],
   "source": [
    "#finner kvantum\n",
    "\n",
    "kvantum_olivitas = sp.solve(derivert_profitt1, q_C)[0]\n",
    "kvantum_olivitas"
   ]
  },
  {
   "cell_type": "code",
   "execution_count": 205,
   "metadata": {},
   "outputs": [
    {
     "data": {
      "text/latex": [
       "$\\displaystyle 28200.0 - 0.5 q_{C}$"
      ],
      "text/plain": [
       "28200.0 - 0.5*q_C"
      ]
     },
     "execution_count": 205,
     "metadata": {},
     "output_type": "execute_result"
    }
   ],
   "source": [
    "reaksjon_choice = sp.solve(derivert_profitt2, q_O)[0] \n",
    "reaksjon_choice"
   ]
  },
  {
   "cell_type": "code",
   "execution_count": 202,
   "metadata": {},
   "outputs": [
    {
     "data": {
      "text/latex": [
       "$\\displaystyle 28200.0 - 0.5 q_{C}$"
      ],
      "text/plain": [
       "28200.0 - 0.5*q_C"
      ]
     },
     "execution_count": 202,
     "metadata": {},
     "output_type": "execute_result"
    }
   ],
   "source": [
    "reaksjon_olivitas"
   ]
  },
  {
   "cell_type": "code",
   "execution_count": 204,
   "metadata": {},
   "outputs": [
    {
     "data": {
      "text/latex": [
       "$\\displaystyle 14100.0$"
      ],
      "text/plain": [
       "14100.0000000000"
      ]
     },
     "execution_count": 204,
     "metadata": {},
     "output_type": "execute_result"
    }
   ],
   "source": [
    "kvantum_choice = reaksjon_choice.subs(q_C, kvantum_olivitas)#Kvantum for choice\n",
    "kvantum_choice"
   ]
  },
  {
   "cell_type": "code",
   "execution_count": 199,
   "metadata": {},
   "outputs": [
    {
     "data": {
      "text/latex": [
       "$\\displaystyle 285.0$"
      ],
      "text/plain": [
       "285.000000000000"
      ]
     },
     "execution_count": 199,
     "metadata": {},
     "output_type": "execute_result"
    }
   ],
   "source": [
    "markedspris = Invers_etterspors.rhs.subs({q_C:kvantum_olivitas, q_O:kvantum_choice})\n",
    "markedspris"
   ]
  },
  {
   "cell_type": "code",
   "execution_count": 206,
   "metadata": {},
   "outputs": [
    {
     "data": {
      "text/latex": [
       "$\\displaystyle π_{O} = 3627000.0$"
      ],
      "text/plain": [
       "Eq(π_O, 3627000.0)"
      ]
     },
     "execution_count": 206,
     "metadata": {},
     "output_type": "execute_result"
    }
   ],
   "source": [
    "#profit_1_oppgave(q1,q2).subs({q1:Q1_sol_oppgave,q2:Q2_sol2_oppgave})\n",
    "\n",
    "profitt_olivitas = profitt_1_eq.rhs.subs(q_C, kvantum_olivitas).subs(q_O, kvantum_choice)\n",
    "profitt_olivitas = sp.Eq(pi_O, profitt_olivitas)\n",
    "profitt_olivitas"
   ]
  },
  {
   "cell_type": "code",
   "execution_count": 201,
   "metadata": {},
   "outputs": [
    {
     "data": {
      "text/latex": [
       "$\\displaystyle 313500.0$"
      ],
      "text/plain": [
       "313500.000000000"
      ]
     },
     "execution_count": 201,
     "metadata": {},
     "output_type": "execute_result"
    }
   ],
   "source": [
    "profitt_choice = profitt_2_eq.rhs.subs(q_O, kvantum_choice).subs(q_C, kvantum_olivitas)\n",
    "profitt_choice = sp.Eq(pi_C, profitt_choice)\n",
    "profitt_choice"
   ]
  },
  {
   "cell_type": "code",
   "execution_count": 175,
   "metadata": {},
   "outputs": [
    {
     "data": {
      "text/latex": [
       "$\\displaystyle - 0.0166666666666667 q_{1} - 0.0333333333333333 q_{2} + 940$"
      ],
      "text/plain": [
       "-0.0166666666666667*q1 - 0.0333333333333333*q2 + 940"
      ]
     },
     "execution_count": 175,
     "metadata": {},
     "output_type": "execute_result"
    }
   ],
   "source": [
    "d_profit_2_oppgave=sp.diff(profit_2_oppgave(q1,q2),q2)\n",
    "d_profit_2_oppgave\n"
   ]
  },
  {
   "cell_type": "code",
   "execution_count": 176,
   "metadata": {},
   "outputs": [
    {
     "data": {
      "text/latex": [
       "$\\displaystyle 28200.0 - 0.5 q_{1}$"
      ],
      "text/plain": [
       "28200.0 - 0.5*q1"
      ]
     },
     "execution_count": 176,
     "metadata": {},
     "output_type": "execute_result"
    }
   ],
   "source": [
    "Q2_sol1_oppgave=sp.solve(d_profit_2_oppgave,q2)[0]\n",
    "Q2_sol1_oppgave"
   ]
  },
  {
   "cell_type": "code",
   "execution_count": 177,
   "metadata": {},
   "outputs": [
    {
     "data": {
      "text/latex": [
       "$\\displaystyle 470.0 - 0.0166666666666667 q_{1}$"
      ],
      "text/plain": [
       "470.0 - 0.0166666666666667*q1"
      ]
     },
     "execution_count": 177,
     "metadata": {},
     "output_type": "execute_result"
    }
   ],
   "source": [
    "d_profit_1_oppgave=sp.diff(profit_1_oppgave(q1,Q2_sol1_oppgave),q1)\n",
    "d_profit_1_oppgave"
   ]
  },
  {
   "cell_type": "code",
   "execution_count": 178,
   "metadata": {},
   "outputs": [
    {
     "data": {
      "text/latex": [
       "$\\displaystyle 28200.0$"
      ],
      "text/plain": [
       "28200.0000000000"
      ]
     },
     "execution_count": 178,
     "metadata": {},
     "output_type": "execute_result"
    }
   ],
   "source": [
    "Q1_sol_oppgave=sp.solve(d_profit_1_oppgave,q1)[0]\n",
    "Q1_sol_oppgave"
   ]
  },
  {
   "cell_type": "code",
   "execution_count": 179,
   "metadata": {},
   "outputs": [
    {
     "data": {
      "text/latex": [
       "$\\displaystyle 14100.0$"
      ],
      "text/plain": [
       "14100.0000000000"
      ]
     },
     "execution_count": 179,
     "metadata": {},
     "output_type": "execute_result"
    }
   ],
   "source": [
    "Q2_sol2_oppgave=Q2_sol1_oppgave.subs({q1:Q1_sol_oppgave})\n",
    "Q2_sol2_oppgave"
   ]
  },
  {
   "cell_type": "code",
   "execution_count": 180,
   "metadata": {},
   "outputs": [
    {
     "data": {
      "text/latex": [
       "$\\displaystyle 285.0$"
      ],
      "text/plain": [
       "285.000000000000"
      ]
     },
     "execution_count": 180,
     "metadata": {},
     "output_type": "execute_result"
    }
   ],
   "source": [
    "def pris_demand_oppgave(q1, q2):\n",
    "    return 990-(1/60)*(q1+q2)\n",
    "\n",
    "pris_demand_oppgave(q1,q2).subs({q1:Q1_sol_oppgave,q2:Q2_sol2_oppgave})"
   ]
  },
  {
   "cell_type": "code",
   "execution_count": 181,
   "metadata": {},
   "outputs": [
    {
     "data": {
      "text/latex": [
       "$\\displaystyle 3627000.0$"
      ],
      "text/plain": [
       "3627000.00000000"
      ]
     },
     "execution_count": 181,
     "metadata": {},
     "output_type": "execute_result"
    }
   ],
   "source": [
    "profit_1_oppgave(q1,q2).subs({q1:Q1_sol_oppgave,q2:Q2_sol2_oppgave})"
   ]
  },
  {
   "cell_type": "code",
   "execution_count": 182,
   "metadata": {},
   "outputs": [
    {
     "data": {
      "text/latex": [
       "$\\displaystyle 313500.0$"
      ],
      "text/plain": [
       "313500.000000000"
      ]
     },
     "execution_count": 182,
     "metadata": {},
     "output_type": "execute_result"
    }
   ],
   "source": [
    "profit_2_oppgave(q1,q2).subs({q1:Q1_sol_oppgave,q2:Q2_sol2_oppgave})"
   ]
  },
  {
   "cell_type": "markdown",
   "metadata": {},
   "source": [
    "## b) Vil det være en fordel for Olivita å ha mulighet til å gjøre sine valg før konkurrenten gjør sitt valg?\n"
   ]
  },
  {
   "cell_type": "code",
   "execution_count": 213,
   "metadata": {},
   "outputs": [
    {
     "data": {
      "text/latex": [
       "$\\displaystyle 28200.0$"
      ],
      "text/plain": [
       "28200.0000000000"
      ]
     },
     "execution_count": 213,
     "metadata": {},
     "output_type": "execute_result"
    }
   ],
   "source": [
    "Q1_sol_oppgave"
   ]
  },
  {
   "cell_type": "code",
   "execution_count": 215,
   "metadata": {},
   "outputs": [
    {
     "data": {
      "text/latex": [
       "$\\displaystyle 14100.0$"
      ],
      "text/plain": [
       "14100.0000000000"
      ]
     },
     "execution_count": 215,
     "metadata": {},
     "output_type": "execute_result"
    }
   ],
   "source": [
    "Q2_sol2_oppgave"
   ]
  },
  {
   "cell_type": "code",
   "execution_count": 238,
   "metadata": {},
   "outputs": [
    {
     "data": {
      "text/latex": [
       "$\\displaystyle p = - 0.0166666666666667 q_{C} - 0.0166666666666667 q_{O} + 990$"
      ],
      "text/plain": [
       "Eq(p, -0.0166666666666667*q_C - 0.0166666666666667*q_O + 990)"
      ]
     },
     "execution_count": 238,
     "metadata": {},
     "output_type": "execute_result"
    }
   ],
   "source": []
  },
  {
   "cell_type": "code",
   "execution_count": null,
   "metadata": {},
   "outputs": [],
   "source": [
    "def profit_1_oppgave(q1,q2):\n",
    "    return (P_demand_oppgave(q1+q2)-50)*q1-3000000\n",
    "\n",
    "def profit_2_oppgave(q1,q2):\n",
    "    return (P_demand_oppgave(q1+q2)-50)*q2-3000000"
   ]
  },
  {
   "cell_type": "code",
   "execution_count": 230,
   "metadata": {},
   "outputs": [
    {
     "data": {
      "text/plain": [
       "(0.0, 5000000.0)"
      ]
     },
     "execution_count": 230,
     "metadata": {},
     "output_type": "execute_result"
    },
    {
     "data": {
      "image/png": "[encoded data removed]",
      "text/plain": [
       "<Figure size 640x480 with 1 Axes>"
      ]
     },
     "metadata": {},
     "output_type": "display_data"
    }
   ],
   "source": [
    "fig, ax = plt.subplots()\n",
    "\n",
    "q1 = np.linspace(0, 100000, 1000)\n",
    "q2 = np.linspace(0, 100000, 1000)\n",
    "\n",
    "q1sol = np.linspace(0, int(Q1_sol_oppgave), 1000)\n",
    "q2sol = np.linspace(0, int(Q2_sol2_oppgave), 1000)\n",
    "\n",
    "\n",
    "#profit_1_oppgave(q1,q2).subs({q1:Q1_sol_oppgave,q2:Q2_sol2_oppgave})\n",
    "\n",
    "#plotting the profit for both\n",
    "\n",
    "ax.plot(q1sol, profit_1_oppgave(q1sol, Q2_sol2_oppgave), label='Profit for Olivitas')\n",
    "ax.plot(q2sol, profit_2_oppgave(Q1_sol_oppgave, q2sol), label='Profit for Choice')\n",
    "#and inverse\n",
    "ax.plot(q1sol, P_demand_oppgave(q1sol+Q2_sol2_oppgave), label='Inverse demand for Olivitas')\n",
    "\n",
    "\n",
    "ax.set_ylim(0, 5000000)"
   ]
  },
  {
   "cell_type": "code",
   "execution_count": 233,
   "metadata": {},
   "outputs": [
    {
     "data": {
      "text/plain": [
       "<matplotlib.lines.Line2D at 0x177ef41c470>"
      ]
     },
     "execution_count": 233,
     "metadata": {},
     "output_type": "execute_result"
    },
    {
     "data": {
      "image/png": "[encoded data removed]",
      "text/plain": [
       "<Figure size 640x480 with 1 Axes>"
      ]
     },
     "metadata": {},
     "output_type": "display_data"
    }
   ],
   "source": [
    "fig, ax = plt.subplots()\n",
    "\n",
    "ax.plot(q1sol, P_demand_oppgave(q1sol+Q2_sol2_oppgave), label='Inverse demand for Olivitas')\n",
    "ax.plot(q2sol, P_demand_oppgave(Q1_sol_oppgave+q2sol), label='Inverse demand for Choice')\n",
    "\n",
    "#hline at price 285\n",
    "\n",
    "ax.axhline(y=285, color='r', linestyle='-', label='Price 285')\n"
   ]
  },
  {
   "cell_type": "code",
   "execution_count": 225,
   "metadata": {},
   "outputs": [
    {
     "data": {
      "text/plain": [
       "[<matplotlib.lines.Line2D at 0x177ef166450>]"
      ]
     },
     "execution_count": 225,
     "metadata": {},
     "output_type": "execute_result"
    },
    {
     "data": {
      "image/png": "[encoded data removed]",
      "text/plain": [
       "<Figure size 640x480 with 1 Axes>"
      ]
     },
     "metadata": {},
     "output_type": "display_data"
    }
   ],
   "source": [
    "#plotting inverse demand\n",
    "fig, ax = plt.subplots()\n",
    "\n",
    "ax.plot(q1, pris_demand_oppgave(q1, Q2_sol2_oppgave), label='Inverse demand for Olivitas')\n",
    "ax.plot(q2, pris_demand_oppgave(Q1_sol_oppgave, q2), label='Inverse demand for Choice')"
   ]
  },
  {
   "cell_type": "code",
   "execution_count": null,
   "metadata": {},
   "outputs": [],
   "source": []
  },
  {
   "cell_type": "code",
   "execution_count": null,
   "metadata": {},
   "outputs": [],
   "source": []
  },
  {
   "cell_type": "code",
   "execution_count": null,
   "metadata": {},
   "outputs": [],
   "source": []
  },
  {
   "cell_type": "code",
   "execution_count": null,
   "metadata": {},
   "outputs": [],
   "source": []
  },
  {
   "cell_type": "markdown",
   "metadata": {},
   "source": [
    "# Oppgave 2 (70%)\n",
    "\n",
    "Markedet for produksjon av mikroøl består av tre lokale bryggerier: Graff Brygghus, Bryggeri 13 og Mack Mikrobryggeri.\n",
    "Etterspørselen i dette markedet er gitt ved:\n",
    "$$\n",
    "P = 175-4Q\n",
    "$$\n",
    "hvor $P$ er markedspris per flaske mikroøl, $Q$ er totalt kvantum (antall tusen flasker), som er summen av produksjonen til de tre bryggeriene: $Q = q_G + q_B + q_M$, der $q_G$ er produsert kvantum for Graff Brygghus, $q_B$ er produsert kvantum for Bryggeri 13 og $q_M$ er produsert kvantum for Mack Mikrobryggeri.\n",
    "\n",
    "\n",
    "Mack Mikrobryggeri, som er en del av Mack Ølbryggeri, har en mer effektiv produksjonslinje enn de to andre, med konstante marginalkostnader på 7 kr per flaske, mens Graff Brygghus og Bryggeri 13 har marginalkostnader på 10 kr per flaske. Alle tre mikrobryggeriene har faste årlige kostnader på 300 000 kr.\n",
    "Styrene i selskapene Mack Mikrobryggeri og Bryggeri 13 har startet samtaler knyttet til mulig fusjon av disse to selskapene. Ved en fusjon vil all produksjon flyttes til Mack Mikrobryggeri. De faste kostnadene vil også reduseres ved sammenslåing av selskapene, og totalt utgjøre kr 500 000 per år for det fusjonerte selskapet.\n",
    "\n",
    "\n",
    "## a) Vil en slik fusjon være lønnsom for de fusjonerte partene?\n",
    "\n"
   ]
  },
  {
   "cell_type": "code",
   "execution_count": 523,
   "metadata": {},
   "outputs": [
    {
     "data": {
      "text/latex": [
       "$\\displaystyle a - b q_{1} - b \\left(q_{1} + q_{2} + q_{3}\\right) - c_{1}$"
      ],
      "text/plain": [
       "a - b*q1 - b*(q1 + q2 + q3) - c1"
      ]
     },
     "metadata": {},
     "output_type": "display_data"
    },
    {
     "data": {
      "text/latex": [
       "$\\displaystyle a - b q_{2} - b \\left(q_{1} + q_{2} + q_{3}\\right) - c_{2}$"
      ],
      "text/plain": [
       "a - b*q2 - b*(q1 + q2 + q3) - c2"
      ]
     },
     "metadata": {},
     "output_type": "display_data"
    },
    {
     "data": {
      "text/latex": [
       "$\\displaystyle a - b q_{3} - b \\left(q_{1} + q_{2} + q_{3}\\right) - c_{3}$"
      ],
      "text/plain": [
       "a - b*q3 - b*(q1 + q2 + q3) - c3"
      ]
     },
     "metadata": {},
     "output_type": "display_data"
    }
   ],
   "source": [
    "#q_G, q_B, q_M = sp.symbols('q_G q_B q_M')\n",
    "q1,q2,q3,c1,c2,c3, a, b, f1, f2, f3, f13=sp.symbols('q1 q2 q3 c1 c2 c3 a b f1 f2 f3 f13') \n",
    "\n",
    "\n",
    "\n",
    "\n",
    "def P_demand(Q,a,b):\n",
    "    return a-b*Q\n",
    "\n",
    "def profit(q1,q2,q3,c,a,b, f):\n",
    "    return (P_demand(q1+q2+q3,a,b)-c)*q1 - f\n",
    "\n",
    "\n",
    "d_profit1_Q=sp.diff(profit(q1,q2,q3,c1,a,b, f1),q1)\n",
    "d_profit2_Q=sp.diff(profit(q2,q1,q3,c2,a,b, f2),q2)\n",
    "d_profit3_Q=sp.diff(profit(q3,q2,q1,c3,a,b, f3),q3)\n",
    "display(d_profit1_Q)\n",
    "display(d_profit2_Q)\n",
    "display(d_profit3_Q)"
   ]
  },
  {
   "cell_type": "code",
   "execution_count": 524,
   "metadata": {},
   "outputs": [
    {
     "data": {
      "text/latex": [
       "$\\displaystyle \\frac{a - 3 c_{1} + c_{2} + c_{3}}{4 b}$"
      ],
      "text/plain": [
       "(a - 3*c1 + c2 + c3)/(4*b)"
      ]
     },
     "metadata": {},
     "output_type": "display_data"
    },
    {
     "data": {
      "text/latex": [
       "$\\displaystyle \\frac{a + c_{1} - 3 c_{2} + c_{3}}{4 b}$"
      ],
      "text/plain": [
       "(a + c1 - 3*c2 + c3)/(4*b)"
      ]
     },
     "metadata": {},
     "output_type": "display_data"
    },
    {
     "data": {
      "text/latex": [
       "$\\displaystyle \\frac{a + c_{1} + c_{2} - 3 c_{3}}{4 b}$"
      ],
      "text/plain": [
       "(a + c1 + c2 - 3*c3)/(4*b)"
      ]
     },
     "metadata": {},
     "output_type": "display_data"
    }
   ],
   "source": [
    "sol=sp.solve([d_profit1_Q,d_profit2_Q,d_profit3_Q],[q1,q2,q3])\n",
    "\n",
    "display(sol[q1])\n",
    "display(sol[q2])\n",
    "display(sol[q3])"
   ]
  },
  {
   "cell_type": "code",
   "execution_count": 525,
   "metadata": {},
   "outputs": [],
   "source": [
    "cournot=sp.lambdify(\n",
    "    (a,b,c1,c2,c3, f1, f2, f3), \n",
    "    (sol[q1],sol[q2],sol[q3])\n",
    ")"
   ]
  },
  {
   "cell_type": "code",
   "execution_count": 526,
   "metadata": {},
   "outputs": [
    {
     "data": {
      "text/plain": [
       "(10.875, 10.125, 10.125)"
      ]
     },
     "execution_count": 526,
     "metadata": {},
     "output_type": "execute_result"
    }
   ],
   "source": [
    "cournot(175,4,7,10,10, 300000, 300000, 300000)"
   ]
  },
  {
   "cell_type": "code",
   "execution_count": 527,
   "metadata": {},
   "outputs": [
    {
     "name": "stdout",
     "output_type": "stream",
     "text": [
      "50.5\n"
     ]
    }
   ],
   "source": [
    "a_value=175\n",
    "b_value=4\n",
    "c1_value=7\n",
    "c2_value=10\n",
    "c3_value=10 \n",
    "f1_value=300\n",
    "f2_value=300\n",
    "f3_value=300\n",
    "f13_value=500\n",
    "\n",
    "\n",
    "\n",
    "q1sol, q2sol, q3sol=cournot(a_value,b_value,c1_value,c2_value,c3_value, f1_value, f2_value, f3_value)\n",
    "print (P_demand(q1sol+q2sol+q3sol,a_value,b_value))"
   ]
  },
  {
   "cell_type": "code",
   "execution_count": 528,
   "metadata": {},
   "outputs": [
    {
     "name": "stdout",
     "output_type": "stream",
     "text": [
      "Løsningen er at \n",
      "bedrift 1 produserer 10.875 med profitt 173.0625, \n",
      "bedrift 2 produserer 10.125 med profitt 110.0625 og  \n",
      "bedrift 3 produserer 10.125 med profitt 110.0625\n",
      "prisen blir 50.5\n"
     ]
    }
   ],
   "source": [
    "print(f\"\"\"Løsningen er at \n",
    "bedrift 1 produserer {q1sol} med profitt {profit(q1sol,q2sol,q3sol,c1_value,a_value,b_value, f1_value)}, \n",
    "bedrift 2 produserer {q2sol} med profitt {profit(q2sol,q1sol,q3sol,c2_value,a_value,b_value, f2_value)} og  \n",
    "bedrift 3 produserer {q3sol} med profitt {profit(q3sol,q1sol,q2sol,c3_value,a_value,b_value, f3_value)}\n",
    "prisen blir {P_demand(q1sol+q2sol+q3sol,a_value,b_value)}\"\"\")"
   ]
  },
  {
   "cell_type": "code",
   "execution_count": 529,
   "metadata": {},
   "outputs": [
    {
     "data": {
      "text/plain": [
       "(10.875, 10.125, 10.125)"
      ]
     },
     "execution_count": 529,
     "metadata": {},
     "output_type": "execute_result"
    }
   ],
   "source": [
    "q1sol, q2sol, q3sol"
   ]
  },
  {
   "cell_type": "code",
   "execution_count": 549,
   "metadata": {},
   "outputs": [
    {
     "data": {
      "text/latex": [
       "$\\displaystyle a - b q_{1} - b \\left(q_{1} + q_{3}\\right) - c_{1}$"
      ],
      "text/plain": [
       "a - b*q1 - b*(q1 + q3) - c1"
      ]
     },
     "metadata": {},
     "output_type": "display_data"
    },
    {
     "data": {
      "text/latex": [
       "$\\displaystyle a - b q_{3} - b \\left(q_{1} + q_{3}\\right) - c_{3}$"
      ],
      "text/plain": [
       "a - b*q3 - b*(q1 + q3) - c3"
      ]
     },
     "metadata": {},
     "output_type": "display_data"
    }
   ],
   "source": [
    "def P_demand1(Q,a,b):\n",
    "    return a-b*Q\n",
    "\n",
    "def profitF(q1,q3,c,a,b, f):\n",
    "    return (P_demand(q1+q3,a,b)-c)*q1 - f\n",
    "\n",
    "\n",
    "\n",
    "d_profitF1_Q=sp.diff(profitF(q1,q3,c1,a,b, f1),q1)\n",
    "d_profitF3_Q=sp.diff(profitF(q3,q1,c3,a,b, f3),q3)\n",
    "\n",
    "display(d_profitF1_Q)\n",
    "display(d_profitF3_Q)"
   ]
  },
  {
   "cell_type": "code",
   "execution_count": 531,
   "metadata": {},
   "outputs": [
    {
     "data": {
      "text/latex": [
       "$\\displaystyle \\frac{a - 2 c_{1} + c_{3}}{3 b}$"
      ],
      "text/plain": [
       "(a - 2*c1 + c3)/(3*b)"
      ]
     },
     "metadata": {},
     "output_type": "display_data"
    },
    {
     "data": {
      "text/latex": [
       "$\\displaystyle \\frac{a + c_{1} - 2 c_{3}}{3 b}$"
      ],
      "text/plain": [
       "(a + c1 - 2*c3)/(3*b)"
      ]
     },
     "metadata": {},
     "output_type": "display_data"
    }
   ],
   "source": [
    "sol=sp.solve([d_profitF1_Q,d_profitF3_Q],[q1,q3])\n",
    "\n",
    "display(sol[q1])\n",
    "display(sol[q3])"
   ]
  },
  {
   "cell_type": "code",
   "execution_count": 543,
   "metadata": {},
   "outputs": [],
   "source": [
    "\n",
    "cournot=sp.lambdify(\n",
    "    (a,b,c1,c3, f13), \n",
    "    (sol[q1],sol[q3])\n",
    ")"
   ]
  },
  {
   "cell_type": "code",
   "execution_count": 555,
   "metadata": {},
   "outputs": [],
   "source": [
    "a_value=175\n",
    "b_value=4\n",
    "c1_value=7\n",
    "c3_value=10\n",
    "f1_value=300\n",
    "f3_value=300\n",
    "f13_value=500"
   ]
  },
  {
   "cell_type": "code",
   "execution_count": 556,
   "metadata": {},
   "outputs": [
    {
     "data": {
      "text/plain": [
       "(14.25, 13.5)"
      ]
     },
     "execution_count": 556,
     "metadata": {},
     "output_type": "execute_result"
    }
   ],
   "source": [
    "cournot(175,4,7, 10, 500000)"
   ]
  },
  {
   "cell_type": "code",
   "execution_count": 557,
   "metadata": {},
   "outputs": [
    {
     "name": "stdout",
     "output_type": "stream",
     "text": [
      "64.0\n"
     ]
    }
   ],
   "source": [
    "\n",
    "\n",
    "q1sol, q3sol=cournot(a_value,b_value,c1_value, 10, 500)\n",
    "print (P_demand(q1sol+q3sol,a_value,b_value))"
   ]
  },
  {
   "cell_type": "code",
   "execution_count": 564,
   "metadata": {},
   "outputs": [
    {
     "name": "stdout",
     "output_type": "stream",
     "text": [
      "Løsningen er at \n",
      "bedriftene produserer 14.25 enheter som gir profitt lik 504.625 og \n",
      "prisen i markedet blir 77.5\n"
     ]
    }
   ],
   "source": [
    "\n",
    "print(f\"\"\"Løsningen er at \n",
    "bedriftene produserer {q1sol} enheter som gir profitt lik {profitF(q1sol,q2sol,c1_value,a_value,b_value, 500)} og \n",
    "prisen i markedet blir {P_demand1(q1sol+q2sol,a_value,b_value)}\"\"\")"
   ]
  },
  {
   "cell_type": "code",
   "execution_count": 562,
   "metadata": {},
   "outputs": [
    {
     "data": {
      "text/plain": [
       "(14.25, 10.125, 24.375)"
      ]
     },
     "execution_count": 562,
     "metadata": {},
     "output_type": "execute_result"
    }
   ],
   "source": [
    "q1sol,q2sol, q1sol+q2sol"
   ]
  }
 ],
 "metadata": {
  "kernelspec": {
   "display_name": "Python 3",
   "language": "python",
   "name": "python3"
  },
  "language_info": {
   "codemirror_mode": {
    "name": "ipython",
    "version": 3
   },
   "file_extension": ".py",
   "mimetype": "text/x-python",
   "name": "python",
   "nbconvert_exporter": "python",
   "pygments_lexer": "ipython3",
   "version": "3.12.0"
  }
 },
 "nbformat": 4,
 "nbformat_minor": 2
}
