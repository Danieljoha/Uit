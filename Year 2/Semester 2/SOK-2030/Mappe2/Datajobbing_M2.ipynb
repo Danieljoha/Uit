{
 "cells": [
  {
   "cell_type": "markdown",
   "metadata": {},
   "source": [
    "Olivita AS ble etablert i 2002 av to professorer fra Universitetet i Tromsø (UiT). Selskapet tilbyr kosttilskuddet Olivita, som inneholder omega-3 og er utviklet for å støtte hjerte, ledd og immunforsvar. \n",
    "Produktet har vært patentbeskyttet frem til 2023, og Olivita har hatt eksklusiv rett til produksjon av dette omega-3 produktet. Etter patentets utløp har det nye selskapet Dr Choice AS kommet på markedet og tilbyr Easy Choice Omega-3. I markedet for omega-3 produkter vil Olivita AS fortsette å være en ledende aktør, mens Dr Choice AS vil utfordre som en nykommer.\n",
    "\n",
    "I dette marked er det følgende invers etterspørsel\n",
    "$$\n",
    "P = 990 - \\frac{1}{60}(q_O + q_C)\n",
    "$$\n",
    "hvor $q_O$ er antall solgte flasker med Olivita, $q_C$ er antall solgte flasker Easy Choice Omega-3 og $P$ er pris per flaske av Omega-3 produktene. I produksjon av Omega-3 produktene vil begge bedriftene ha konstante marginalkostnader på kr 50 per produsert flaske. Faste kostnader for begge bedriftene er på 3 millioner kroner.\n",
    "\n",
    "\n",
    "## a) Hva blir optimal tilpasning i dette markedet når Olivita kan gjøre sine strategiske valg før konkurrenten, Dr Choice AS, gjør sitt valg?\n",
    "\n"
   ]
  },
  {
   "cell_type": "code",
   "execution_count": 1,
   "metadata": {},
   "outputs": [],
   "source": [
    "import sympy as sp\n",
    "from matplotlib import pyplot as plt\n",
    "import numpy as np"
   ]
  },
  {
   "cell_type": "code",
   "execution_count": 44,
   "metadata": {},
   "outputs": [],
   "source": [
    "q_O, q_C, p ,c, f, a, b, pi,i, q1, q2= sp.symbols('q_O q_C p c f a b pi i q1 q2')\n",
    "\n",
    "\n",
    "\n",
    "#c = 50\n",
    "#f = 100\n",
    "\n",
    "def P_demand(Q):\n",
    "    return 5000-(1/10)*Q\n",
    "\n",
    "\n",
    "def P_demand_oppgave(Q):\n",
    "    return 990-(1/60)*Q\n",
    "\n",
    "\n",
    "def profit_1(q1,q2):\n",
    "    return (P_demand(q1+q2)-1500)*q1-3000000\n",
    "def profit_2(q1,q2):\n",
    "    return (P_demand(q1+q2)-1800)*q2-3000000\n",
    "\n",
    "\n",
    "def profit_1_oppgave(q1,q2):\n",
    "    return (P_demand_oppgave(q1+q2)-50)*q1-3000000\n",
    "\n",
    "def profit_2_oppgave(q1,q2):\n",
    "    return (P_demand_oppgave(q1+q2)-50)*q2-3000000\n"
   ]
  },
  {
   "cell_type": "code",
   "execution_count": 51,
   "metadata": {},
   "outputs": [
    {
     "data": {
      "text/latex": [
       "$\\displaystyle - 0.1 q_{1} - 0.2 q_{2} + 3200$"
      ],
      "text/plain": [
       "-0.1*q1 - 0.2*q2 + 3200"
      ]
     },
     "execution_count": 51,
     "metadata": {},
     "output_type": "execute_result"
    }
   ],
   "source": [
    "d_profit_2=sp.diff(profit_2(q1,q2),q2)\n",
    "d_profit_2"
   ]
  },
  {
   "cell_type": "code",
   "execution_count": 52,
   "metadata": {},
   "outputs": [
    {
     "data": {
      "text/latex": [
       "$\\displaystyle 16000.0 - 0.5 q_{1}$"
      ],
      "text/plain": [
       "16000.0 - 0.5*q1"
      ]
     },
     "execution_count": 52,
     "metadata": {},
     "output_type": "execute_result"
    }
   ],
   "source": [
    "Q2_sol1=sp.solve(d_profit_2,q2)[0]\n",
    "Q2_sol1"
   ]
  },
  {
   "cell_type": "code",
   "execution_count": 53,
   "metadata": {},
   "outputs": [
    {
     "data": {
      "text/latex": [
       "$\\displaystyle 1900.0 - 0.1 q_{1}$"
      ],
      "text/plain": [
       "1900.0 - 0.1*q1"
      ]
     },
     "execution_count": 53,
     "metadata": {},
     "output_type": "execute_result"
    }
   ],
   "source": [
    "d_profit_1=sp.diff(profit_1(q1,Q2_sol1),q1)\n",
    "d_profit_1"
   ]
  },
  {
   "cell_type": "code",
   "execution_count": 54,
   "metadata": {},
   "outputs": [
    {
     "data": {
      "text/latex": [
       "$\\displaystyle 19000.0$"
      ],
      "text/plain": [
       "19000.0000000000"
      ]
     },
     "execution_count": 54,
     "metadata": {},
     "output_type": "execute_result"
    }
   ],
   "source": [
    "Q1_sol=sp.solve(d_profit_1,q1)[0]\n",
    "Q1_sol"
   ]
  },
  {
   "cell_type": "code",
   "execution_count": 55,
   "metadata": {},
   "outputs": [
    {
     "data": {
      "text/latex": [
       "$\\displaystyle 6500.0$"
      ],
      "text/plain": [
       "6500.00000000000"
      ]
     },
     "execution_count": 55,
     "metadata": {},
     "output_type": "execute_result"
    }
   ],
   "source": [
    "Q2_sol2=Q2_sol1.subs({q1:Q1_sol})\n",
    "Q2_sol2"
   ]
  },
  {
   "cell_type": "code",
   "execution_count": null,
   "metadata": {},
   "outputs": [],
   "source": []
  },
  {
   "cell_type": "code",
   "execution_count": 56,
   "metadata": {},
   "outputs": [
    {
     "data": {
      "text/latex": [
       "$\\displaystyle \\frac{c}{2} + \\frac{q_{C}}{120} - 495$"
      ],
      "text/plain": [
       "c/2 + q_C/120 - 495"
      ]
     },
     "execution_count": 56,
     "metadata": {},
     "output_type": "execute_result"
    }
   ],
   "source": [
    "#d_profit1_Q=diff(profit(q1,Q2_sol1,c,a,b),q1)\n",
    "d_profit1_Q = sp.diff(profitteq_num.rhs.subs(q_O,sp.solve(d_profit2_Q, q_O)[0]),q_C)\n",
    "d_profit1_Q"
   ]
  },
  {
   "cell_type": "code",
   "execution_count": 57,
   "metadata": {},
   "outputs": [
    {
     "data": {
      "text/latex": [
       "$\\displaystyle 59400 - 60 c$"
      ],
      "text/plain": [
       "59400 - 60*c"
      ]
     },
     "execution_count": 57,
     "metadata": {},
     "output_type": "execute_result"
    }
   ],
   "source": [
    "Q1_sol=sp.solve(d_profit1_Q, q_C)[0]\n",
    "Q1_sol"
   ]
  },
  {
   "cell_type": "code",
   "execution_count": 58,
   "metadata": {},
   "outputs": [
    {
     "data": {
      "text/latex": [
       "$\\displaystyle \\frac{a + 60 b \\left(c - 990\\right) - p}{b}$"
      ],
      "text/plain": [
       "(a + 60*b*(c - 990) - p)/b"
      ]
     },
     "execution_count": 58,
     "metadata": {},
     "output_type": "execute_result"
    }
   ],
   "source": [
    "Q2_sol2 = sp.solve(p_demand.subs(q_C,Q1_sol),q_O)[0]\n",
    "Q2_sol2"
   ]
  },
  {
   "cell_type": "code",
   "execution_count": null,
   "metadata": {},
   "outputs": [],
   "source": [
    "#P_opt=P_demand(q1,q2).subs({q1:Q1_sol,q2:Q2_sol2})\n",
    "#P_opt\n",
    "#sp.simplify(P_opt)"
   ]
  },
  {
   "cell_type": "code",
   "execution_count": 135,
   "metadata": {},
   "outputs": [
    {
     "data": {
      "text/latex": [
       "$\\displaystyle q_{1} \\left(- 0.0166666666666667 q_{1} - 0.0166666666666667 q_{2} + 940\\right) - 3000000$"
      ],
      "text/plain": [
       "q1*(-0.0166666666666667*q1 - 0.0166666666666667*q2 + 940) - 3000000"
      ]
     },
     "execution_count": 135,
     "metadata": {},
     "output_type": "execute_result"
    }
   ],
   "source": [
    "profit_1_oppgave(q1,q2)"
   ]
  },
  {
   "cell_type": "code",
   "execution_count": 169,
   "metadata": {},
   "outputs": [
    {
     "data": {
      "text/latex": [
       "$\\displaystyle π_{O} = q_{C} \\left(- 0.0166666666666667 q_{C} - 0.0166666666666667 q_{O} + 940\\right) - 3000000$"
      ],
      "text/plain": [
       "Eq(π_O, q_C*(-0.0166666666666667*q_C - 0.0166666666666667*q_O + 940) - 3000000)"
      ]
     },
     "execution_count": 169,
     "metadata": {},
     "output_type": "execute_result"
    }
   ],
   "source": [
    "profitt_1_eq"
   ]
  },
  {
   "cell_type": "code",
   "execution_count": 139,
   "metadata": {},
   "outputs": [
    {
     "data": {
      "text/latex": [
       "$\\displaystyle - 0.0166666666666667 q_{1} - 0.0166666666666667 q_{2} + 990$"
      ],
      "text/plain": [
       "-0.0166666666666667*q1 - 0.0166666666666667*q2 + 990"
      ]
     },
     "execution_count": 139,
     "metadata": {},
     "output_type": "execute_result"
    }
   ],
   "source": [
    "P_demand_oppgave(q1+q2)"
   ]
  },
  {
   "cell_type": "code",
   "execution_count": 138,
   "metadata": {},
   "outputs": [
    {
     "data": {
      "text/latex": [
       "$\\displaystyle q_{1} \\left(- 0.0166666666666667 q_{1} - 0.0166666666666667 q_{2} + 940\\right) - 3000000$"
      ],
      "text/plain": [
       "q1*(-0.0166666666666667*q1 - 0.0166666666666667*q2 + 940) - 3000000"
      ]
     },
     "execution_count": 138,
     "metadata": {},
     "output_type": "execute_result"
    }
   ],
   "source": [
    "(P_demand_oppgave(q1+q2)-50)*q1-3000000"
   ]
  },
  {
   "cell_type": "code",
   "execution_count": 168,
   "metadata": {},
   "outputs": [],
   "source": [
    "q_O, q_C, p, c, f, pi_C, pi_O= sp.symbols('q_O q_C p c f \\u03C0_C \\u03C0_O')\n",
    "\n",
    "Invers_etterspors = sp.Eq(p, (990-(1/60)*(q_C+q_O)))\n",
    "\n",
    "\n",
    "profitt_1_eq = sp.Eq(pi_O, (Invers_etterspors.rhs-50)*q_C-3000000)\n",
    "profitt_2_eq = sp.Eq(pi_C, (Invers_etterspors.rhs-50)*q_O-3000000)"
   ]
  },
  {
   "cell_type": "code",
   "execution_count": 159,
   "metadata": {},
   "outputs": [
    {
     "data": {
      "text/latex": [
       "$\\displaystyle - 0.0166666666666667 q_{C} - 0.0333333333333333 q_{O} + 940$"
      ],
      "text/plain": [
       "-0.0166666666666667*q_C - 0.0333333333333333*q_O + 940"
      ]
     },
     "execution_count": 159,
     "metadata": {},
     "output_type": "execute_result"
    }
   ],
   "source": [
    "derivert_profitt_2 = sp.diff(profitt_2_eq.rhs, q_O)\n",
    "derivert_profitt_2"
   ]
  },
  {
   "cell_type": "code",
   "execution_count": 192,
   "metadata": {},
   "outputs": [
    {
     "data": {
      "text/latex": [
       "$\\displaystyle 28200.0 - 0.5 q_{C}$"
      ],
      "text/plain": [
       "28200.0 - 0.5*q_C"
      ]
     },
     "execution_count": 192,
     "metadata": {},
     "output_type": "execute_result"
    }
   ],
   "source": [
    "reaksjon_olivitas = sp.solve(derivert_profitt_2, q_O)[0]\n",
    "reaksjon_olivitas"
   ]
  },
  {
   "cell_type": "code",
   "execution_count": 193,
   "metadata": {},
   "outputs": [
    {
     "data": {
      "text/latex": [
       "$\\displaystyle π_{O} = q_{C} \\left(470.0 - 0.00833333333333333 q_{C}\\right) - 3000000$"
      ],
      "text/plain": [
       "Eq(π_O, q_C*(470.0 - 0.00833333333333333*q_C) - 3000000)"
      ]
     },
     "execution_count": 193,
     "metadata": {},
     "output_type": "execute_result"
    }
   ],
   "source": [
    "#setter inn i profitt 1\n",
    "\n",
    "profitt_1_eq = profitt_1_eq.subs(q_O, reaksjon_olivitas)\n",
    "profitt_1_eq"
   ]
  },
  {
   "cell_type": "code",
   "execution_count": 194,
   "metadata": {},
   "outputs": [
    {
     "data": {
      "text/latex": [
       "$\\displaystyle 470.0 - 0.0166666666666667 q_{C}$"
      ],
      "text/plain": [
       "470.0 - 0.0166666666666667*q_C"
      ]
     },
     "execution_count": 194,
     "metadata": {},
     "output_type": "execute_result"
    }
   ],
   "source": [
    "derivert_profitt1 = sp.diff(profitt_1_eq.rhs, q_C) #kvantum for olivitas\n",
    "derivert_profitt1\n"
   ]
  },
  {
   "cell_type": "code",
   "execution_count": 195,
   "metadata": {},
   "outputs": [
    {
     "data": {
      "text/latex": [
       "$\\displaystyle - 0.0166666666666667 q_{C} - 0.0333333333333333 q_{O} + 940$"
      ],
      "text/plain": [
       "-0.0166666666666667*q_C - 0.0333333333333333*q_O + 940"
      ]
     },
     "execution_count": 195,
     "metadata": {},
     "output_type": "execute_result"
    }
   ],
   "source": [
    "\n",
    "derivert_profitt2 = sp.diff(profitt_2_eq.rhs, q_O)\n",
    "derivert_profitt2"
   ]
  },
  {
   "cell_type": "code",
   "execution_count": null,
   "metadata": {},
   "outputs": [],
   "source": []
  },
  {
   "cell_type": "code",
   "execution_count": 196,
   "metadata": {},
   "outputs": [
    {
     "data": {
      "text/latex": [
       "$\\displaystyle 28200.0$"
      ],
      "text/plain": [
       "28200.0000000000"
      ]
     },
     "execution_count": 196,
     "metadata": {},
     "output_type": "execute_result"
    }
   ],
   "source": [
    "#finner kvantum\n",
    "\n",
    "kvantum_olivitas = sp.solve(derivert_profitt1, q_C)[0]\n",
    "kvantum_olivitas"
   ]
  },
  {
   "cell_type": "code",
   "execution_count": 205,
   "metadata": {},
   "outputs": [
    {
     "data": {
      "text/latex": [
       "$\\displaystyle 28200.0 - 0.5 q_{C}$"
      ],
      "text/plain": [
       "28200.0 - 0.5*q_C"
      ]
     },
     "execution_count": 205,
     "metadata": {},
     "output_type": "execute_result"
    }
   ],
   "source": [
    "reaksjon_choice = sp.solve(derivert_profitt2, q_O)[0] \n",
    "reaksjon_choice"
   ]
  },
  {
   "cell_type": "code",
   "execution_count": 202,
   "metadata": {},
   "outputs": [
    {
     "data": {
      "text/latex": [
       "$\\displaystyle 28200.0 - 0.5 q_{C}$"
      ],
      "text/plain": [
       "28200.0 - 0.5*q_C"
      ]
     },
     "execution_count": 202,
     "metadata": {},
     "output_type": "execute_result"
    }
   ],
   "source": [
    "reaksjon_olivitas"
   ]
  },
  {
   "cell_type": "code",
   "execution_count": 204,
   "metadata": {},
   "outputs": [
    {
     "data": {
      "text/latex": [
       "$\\displaystyle 14100.0$"
      ],
      "text/plain": [
       "14100.0000000000"
      ]
     },
     "execution_count": 204,
     "metadata": {},
     "output_type": "execute_result"
    }
   ],
   "source": [
    "kvantum_choice = reaksjon_choice.subs(q_C, kvantum_olivitas)#Kvantum for choice\n",
    "kvantum_choice"
   ]
  },
  {
   "cell_type": "code",
   "execution_count": 199,
   "metadata": {},
   "outputs": [
    {
     "data": {
      "text/latex": [
       "$\\displaystyle 285.0$"
      ],
      "text/plain": [
       "285.000000000000"
      ]
     },
     "execution_count": 199,
     "metadata": {},
     "output_type": "execute_result"
    }
   ],
   "source": [
    "markedspris = Invers_etterspors.rhs.subs({q_C:kvantum_olivitas, q_O:kvantum_choice})\n",
    "markedspris"
   ]
  },
  {
   "cell_type": "code",
   "execution_count": 206,
   "metadata": {},
   "outputs": [
    {
     "data": {
      "text/latex": [
       "$\\displaystyle π_{O} = 3627000.0$"
      ],
      "text/plain": [
       "Eq(π_O, 3627000.0)"
      ]
     },
     "execution_count": 206,
     "metadata": {},
     "output_type": "execute_result"
    }
   ],
   "source": [
    "#profit_1_oppgave(q1,q2).subs({q1:Q1_sol_oppgave,q2:Q2_sol2_oppgave})\n",
    "\n",
    "profitt_olivitas = profitt_1_eq.rhs.subs(q_C, kvantum_olivitas).subs(q_O, kvantum_choice)\n",
    "profitt_olivitas = sp.Eq(pi_O, profitt_olivitas)\n",
    "profitt_olivitas"
   ]
  },
  {
   "cell_type": "code",
   "execution_count": 201,
   "metadata": {},
   "outputs": [
    {
     "data": {
      "text/latex": [
       "$\\displaystyle 313500.0$"
      ],
      "text/plain": [
       "313500.000000000"
      ]
     },
     "execution_count": 201,
     "metadata": {},
     "output_type": "execute_result"
    }
   ],
   "source": [
    "profitt_choice = profitt_2_eq.rhs.subs(q_O, kvantum_choice).subs(q_C, kvantum_olivitas)\n",
    "profitt_choice = sp.Eq(pi_C, profitt_choice)\n",
    "profitt_choice"
   ]
  },
  {
   "cell_type": "code",
   "execution_count": 175,
   "metadata": {},
   "outputs": [
    {
     "data": {
      "text/latex": [
       "$\\displaystyle - 0.0166666666666667 q_{1} - 0.0333333333333333 q_{2} + 940$"
      ],
      "text/plain": [
       "-0.0166666666666667*q1 - 0.0333333333333333*q2 + 940"
      ]
     },
     "execution_count": 175,
     "metadata": {},
     "output_type": "execute_result"
    }
   ],
   "source": [
    "d_profit_2_oppgave=sp.diff(profit_2_oppgave(q1,q2),q2)\n",
    "d_profit_2_oppgave\n"
   ]
  },
  {
   "cell_type": "code",
   "execution_count": 176,
   "metadata": {},
   "outputs": [
    {
     "data": {
      "text/latex": [
       "$\\displaystyle 28200.0 - 0.5 q_{1}$"
      ],
      "text/plain": [
       "28200.0 - 0.5*q1"
      ]
     },
     "execution_count": 176,
     "metadata": {},
     "output_type": "execute_result"
    }
   ],
   "source": [
    "Q2_sol1_oppgave=sp.solve(d_profit_2_oppgave,q2)[0]\n",
    "Q2_sol1_oppgave"
   ]
  },
  {
   "cell_type": "code",
   "execution_count": 177,
   "metadata": {},
   "outputs": [
    {
     "data": {
      "text/latex": [
       "$\\displaystyle 470.0 - 0.0166666666666667 q_{1}$"
      ],
      "text/plain": [
       "470.0 - 0.0166666666666667*q1"
      ]
     },
     "execution_count": 177,
     "metadata": {},
     "output_type": "execute_result"
    }
   ],
   "source": [
    "d_profit_1_oppgave=sp.diff(profit_1_oppgave(q1,Q2_sol1_oppgave),q1)\n",
    "d_profit_1_oppgave"
   ]
  },
  {
   "cell_type": "code",
   "execution_count": 178,
   "metadata": {},
   "outputs": [
    {
     "data": {
      "text/latex": [
       "$\\displaystyle 28200.0$"
      ],
      "text/plain": [
       "28200.0000000000"
      ]
     },
     "execution_count": 178,
     "metadata": {},
     "output_type": "execute_result"
    }
   ],
   "source": [
    "Q1_sol_oppgave=sp.solve(d_profit_1_oppgave,q1)[0]\n",
    "Q1_sol_oppgave"
   ]
  },
  {
   "cell_type": "code",
   "execution_count": 179,
   "metadata": {},
   "outputs": [
    {
     "data": {
      "text/latex": [
       "$\\displaystyle 14100.0$"
      ],
      "text/plain": [
       "14100.0000000000"
      ]
     },
     "execution_count": 179,
     "metadata": {},
     "output_type": "execute_result"
    }
   ],
   "source": [
    "Q2_sol2_oppgave=Q2_sol1_oppgave.subs({q1:Q1_sol_oppgave})\n",
    "Q2_sol2_oppgave"
   ]
  },
  {
   "cell_type": "code",
   "execution_count": 180,
   "metadata": {},
   "outputs": [
    {
     "data": {
      "text/latex": [
       "$\\displaystyle 285.0$"
      ],
      "text/plain": [
       "285.000000000000"
      ]
     },
     "execution_count": 180,
     "metadata": {},
     "output_type": "execute_result"
    }
   ],
   "source": [
    "def pris_demand_oppgave(q1, q2):\n",
    "    return 990-(1/60)*(q1+q2)\n",
    "\n",
    "pris_demand_oppgave(q1,q2).subs({q1:Q1_sol_oppgave,q2:Q2_sol2_oppgave})"
   ]
  },
  {
   "cell_type": "code",
   "execution_count": 181,
   "metadata": {},
   "outputs": [
    {
     "data": {
      "text/latex": [
       "$\\displaystyle 3627000.0$"
      ],
      "text/plain": [
       "3627000.00000000"
      ]
     },
     "execution_count": 181,
     "metadata": {},
     "output_type": "execute_result"
    }
   ],
   "source": [
    "profit_1_oppgave(q1,q2).subs({q1:Q1_sol_oppgave,q2:Q2_sol2_oppgave})"
   ]
  },
  {
   "cell_type": "code",
   "execution_count": 182,
   "metadata": {},
   "outputs": [
    {
     "data": {
      "text/latex": [
       "$\\displaystyle 313500.0$"
      ],
      "text/plain": [
       "313500.000000000"
      ]
     },
     "execution_count": 182,
     "metadata": {},
     "output_type": "execute_result"
    }
   ],
   "source": [
    "profit_2_oppgave(q1,q2).subs({q1:Q1_sol_oppgave,q2:Q2_sol2_oppgave})"
   ]
  },
  {
   "cell_type": "markdown",
   "metadata": {},
   "source": [
    "## b) Vil det være en fordel for Olivita å ha mulighet til å gjøre sine valg før konkurrenten gjør sitt valg?\n"
   ]
  },
  {
   "cell_type": "code",
   "execution_count": 213,
   "metadata": {},
   "outputs": [
    {
     "data": {
      "text/latex": [
       "$\\displaystyle 28200.0$"
      ],
      "text/plain": [
       "28200.0000000000"
      ]
     },
     "execution_count": 213,
     "metadata": {},
     "output_type": "execute_result"
    }
   ],
   "source": [
    "Q1_sol_oppgave"
   ]
  },
  {
   "cell_type": "code",
   "execution_count": 215,
   "metadata": {},
   "outputs": [
    {
     "data": {
      "text/latex": [
       "$\\displaystyle 14100.0$"
      ],
      "text/plain": [
       "14100.0000000000"
      ]
     },
     "execution_count": 215,
     "metadata": {},
     "output_type": "execute_result"
    }
   ],
   "source": [
    "Q2_sol2_oppgave"
   ]
  },
  {
   "cell_type": "code",
   "execution_count": 238,
   "metadata": {},
   "outputs": [
    {
     "data": {
      "text/latex": [
       "$\\displaystyle p = - 0.0166666666666667 q_{C} - 0.0166666666666667 q_{O} + 990$"
      ],
      "text/plain": [
       "Eq(p, -0.0166666666666667*q_C - 0.0166666666666667*q_O + 990)"
      ]
     },
     "execution_count": 238,
     "metadata": {},
     "output_type": "execute_result"
    }
   ],
   "source": []
  },
  {
   "cell_type": "code",
   "execution_count": null,
   "metadata": {},
   "outputs": [],
   "source": [
    "def profit_1_oppgave(q1,q2):\n",
    "    return (P_demand_oppgave(q1+q2)-50)*q1-3000000\n",
    "\n",
    "def profit_2_oppgave(q1,q2):\n",
    "    return (P_demand_oppgave(q1+q2)-50)*q2-3000000"
   ]
  },
  {
   "cell_type": "code",
   "execution_count": 230,
   "metadata": {},
   "outputs": [
    {
     "data": {
      "text/plain": [
       "(0.0, 5000000.0)"
      ]
     },
     "execution_count": 230,
     "metadata": {},
     "output_type": "execute_result"
    },
    {
     "data": {
      "image/png": "[encoded data removed]",
      "text/plain": [
       "<Figure size 640x480 with 1 Axes>"
      ]
     },
     "metadata": {},
     "output_type": "display_data"
    }
   ],
   "source": [
    "fig, ax = plt.subplots()\n",
    "\n",
    "q1 = np.linspace(0, 100000, 1000)\n",
    "q2 = np.linspace(0, 100000, 1000)\n",
    "\n",
    "q1sol = np.linspace(0, int(Q1_sol_oppgave), 1000)\n",
    "q2sol = np.linspace(0, int(Q2_sol2_oppgave), 1000)\n",
    "\n",
    "\n",
    "#profit_1_oppgave(q1,q2).subs({q1:Q1_sol_oppgave,q2:Q2_sol2_oppgave})\n",
    "\n",
    "#plotting the profit for both\n",
    "\n",
    "ax.plot(q1sol, profit_1_oppgave(q1sol, Q2_sol2_oppgave), label='Profit for Olivitas')\n",
    "ax.plot(q2sol, profit_2_oppgave(Q1_sol_oppgave, q2sol), label='Profit for Choice')\n",
    "#and inverse\n",
    "ax.plot(q1sol, P_demand_oppgave(q1sol+Q2_sol2_oppgave), label='Inverse demand for Olivitas')\n",
    "\n",
    "\n",
    "ax.set_ylim(0, 5000000)"
   ]
  },
  {
   "cell_type": "code",
   "execution_count": 233,
   "metadata": {},
   "outputs": [
    {
     "data": {
      "text/plain": [
       "<matplotlib.lines.Line2D at 0x177ef41c470>"
      ]
     },
     "execution_count": 233,
     "metadata": {},
     "output_type": "execute_result"
    },
    {
     "data": {
      "image/png": "[encoded data removed]",
      "text/plain": [
       "<Figure size 640x480 with 1 Axes>"
      ]
     },
     "metadata": {},
     "output_type": "display_data"
    }
   ],
   "source": [
    "fig, ax = plt.subplots()\n",
    "\n",
    "ax.plot(q1sol, P_demand_oppgave(q1sol+Q2_sol2_oppgave), label='Inverse demand for Olivitas')\n",
    "ax.plot(q2sol, P_demand_oppgave(Q1_sol_oppgave+q2sol), label='Inverse demand for Choice')\n",
    "\n",
    "#hline at price 285\n",
    "\n",
    "ax.axhline(y=285, color='r', linestyle='-', label='Price 285')\n"
   ]
  },
  {
   "cell_type": "code",
   "execution_count": 225,
   "metadata": {},
   "outputs": [
    {
     "data": {
      "text/plain": [
       "[<matplotlib.lines.Line2D at 0x177ef166450>]"
      ]
     },
     "execution_count": 225,
     "metadata": {},
     "output_type": "execute_result"
    },
    {
     "data": {
      "image/png": "[encoded data removed]",
      "text/plain": [
       "<Figure size 640x480 with 1 Axes>"
      ]
     },
     "metadata": {},
     "output_type": "display_data"
    }
   ],
   "source": [
    "#plotting inverse demand\n",
    "fig, ax = plt.subplots()\n",
    "\n",
    "ax.plot(q1, pris_demand_oppgave(q1, Q2_sol2_oppgave), label='Inverse demand for Olivitas')\n",
    "ax.plot(q2, pris_demand_oppgave(Q1_sol_oppgave, q2), label='Inverse demand for Choice')"
   ]
  },
  {
   "cell_type": "code",
   "execution_count": null,
   "metadata": {},
   "outputs": [],
   "source": []
  },
  {
   "cell_type": "code",
   "execution_count": 176,
   "metadata": {},
   "outputs": [
    {
     "name": "stdout",
     "output_type": "stream",
     "text": [
      "Optimalt kvantum for Q_O er 18800 og for Q_C er 18800. Så det totale kvantumet blir 37600 og markedsprisen blir 363.333\n",
      "Profit for Q_O:  2060363.33 Profit for Q_C:  2060363.33 \n",
      "Total profit:  4120726.66\n"
     ]
    }
   ],
   "source": [
    "import sympy as sp\n",
    "a, b, Q_O, Q_C, c, f, p, Q = sp.symbols('a b Q_O Q_C c f p Q')\n",
    "\n",
    "demand = sp.Eq(p, a-b*(Q_O+Q_C))\n",
    "\n",
    "income = sp.Eq(p*Q, Q*(a-b*Q))\n",
    "costs = Q*c-f\n",
    "\n",
    "MR = sp.solve(sp.diff(income.rhs-costs, Q), c)[0]\n",
    "\n",
    "MR1 = sp.Eq(sp.diff((a-b*(Q_O+Q_C))*Q_O-f, Q_O), c)\n",
    "RF1  = sp.solve(MR1, Q_O)[0]\n",
    "\n",
    "MR2 = sp.Eq(sp.diff((a-b*(Q_C+Q_O))*Q_C-f, Q_C), c)\n",
    "RF2 = sp.solve(MR2, Q_C)[0]\n",
    "\n",
    "\n",
    "optimalt_kvantum1 = sp.solve(sp.Eq(RF1.subs(Q_C, RF2), Q_O))[0][Q_O]\n",
    "\n",
    "optimalt_kvantum2 = sp.solve(sp.Eq(RF2.subs(Q_O, RF1), Q_C))[0][Q_C]\n",
    "\n",
    "profitt_1 = (demand.rhs-costs).subs(Q, optimalt_kvantum1)\n",
    "\n",
    "\n",
    "markedspris = round(float(sp.solve(demand.subs({a:990, b:1/60, Q_O:optimalt_kvantum1, Q_C:optimalt_kvantum2, c: 50}), p)[0]),3)\n",
    "\n",
    "profitt_1 = (demand.rhs-costs).subs({Q_O: optimalt_kvantum1, Q_C: optimalt_kvantum2, Q: optimalt_kvantum1, f: 3000000, a: 990, b: 1/60, c: 50}) \n",
    "profitt_2 = (demand.rhs-costs).subs({Q_O: optimalt_kvantum1, Q_C: optimalt_kvantum2, Q: optimalt_kvantum2, f: 3000000, a: 990, b: 1/60, c: 50})\n",
    "\n",
    "\n",
    "\n",
    "kvantum_QO = int(optimalt_kvantum1.subs({a:990, b:1/60, c:50, f:3000000}))\n",
    "kvantum_QC = int(optimalt_kvantum2.subs({a:990, b:1/60, c:50, f:3000000}))\n",
    "\n",
    "print(f'''Optimalt kvantum for Q_O er {kvantum_QO} og for Q_C er {kvantum_QC}. Så det totale kvantumet blir {(kvantum_QO+kvantum_QC)} og markedsprisen blir {markedspris}''')\n",
    "\n",
    "print('''Profit for Q_O: ''', round(float(profitt_1),2), '''Profit for Q_C: ''', round(float(profitt_2),2), '''\\nTotal profit: ''', round(float(profitt_1),2)+round(float(profitt_2),2))\n",
    "\n"
   ]
  },
  {
   "cell_type": "code",
   "execution_count": 180,
   "metadata": {},
   "outputs": [
    {
     "data": {
      "text/plain": [
       "18800"
      ]
     },
     "execution_count": 180,
     "metadata": {},
     "output_type": "execute_result"
    }
   ],
   "source": [
    "kvantum_QC"
   ]
  },
  {
   "cell_type": "code",
   "execution_count": 23,
   "metadata": {},
   "outputs": [
    {
     "data": {
      "text/latex": [
       "$\\displaystyle 28200.0 - 0.5 Q_{C}$"
      ],
      "text/plain": [
       "28200.0 - 0.5*Q_C"
      ]
     },
     "metadata": {},
     "output_type": "display_data"
    },
    {
     "data": {
      "text/latex": [
       "$\\displaystyle 28200.0 - 0.5 Q_{O}$"
      ],
      "text/plain": [
       "28200.0 - 0.5*Q_O"
      ]
     },
     "metadata": {},
     "output_type": "display_data"
    }
   ],
   "source": [
    "display(RF1.subs({a:990, b:1/60, c:50}))\n",
    "display(RF2.subs({a:990, b:1/60, c:50}))"
   ]
  },
  {
   "cell_type": "code",
   "execution_count": 3,
   "metadata": {},
   "outputs": [
    {
     "data": {
      "text/latex": [
       "$\\displaystyle - 0.0166666666666667 q_{C} - 0.0333333333333333 q_{O} + 940$"
      ],
      "text/plain": [
       "-0.0166666666666667*q_C - 0.0333333333333333*q_O + 940"
      ]
     },
     "execution_count": 3,
     "metadata": {},
     "output_type": "execute_result"
    }
   ],
   "source": [
    "derivert_profitt_2"
   ]
  },
  {
   "cell_type": "markdown",
   "metadata": {},
   "source": [
    "# Oppgave 2 (70%)\n",
    "\n",
    "Markedet for produksjon av mikroøl består av tre lokale bryggerier: Graff Brygghus, Bryggeri 13 og Mack Mikrobryggeri.\n",
    "Etterspørselen i dette markedet er gitt ved:\n",
    "$$\n",
    "P = 175-4Q\n",
    "$$\n",
    "hvor $P$ er markedspris per flaske mikroøl, $Q$ er totalt kvantum (antall tusen flasker), som er summen av produksjonen til de tre bryggeriene: $Q = q_G + q_B + q_M$, der $q_G$ er produsert kvantum for Graff Brygghus, $q_B$ er produsert kvantum for Bryggeri 13 og $q_M$ er produsert kvantum for Mack Mikrobryggeri.\n",
    "\n",
    "\n",
    "Mack Mikrobryggeri, som er en del av Mack Ølbryggeri, har en mer effektiv produksjonslinje enn de to andre, med konstante marginalkostnader på 7 kr per flaske, mens Graff Brygghus og Bryggeri 13 har marginalkostnader på 10 kr per flaske. Alle tre mikrobryggeriene har faste årlige kostnader på 300 000 kr.\n",
    "Styrene i selskapene Mack Mikrobryggeri og Bryggeri 13 har startet samtaler knyttet til mulig fusjon av disse to selskapene. Ved en fusjon vil all produksjon flyttes til Mack Mikrobryggeri. De faste kostnadene vil også reduseres ved sammenslåing av selskapene, og totalt utgjøre kr 500 000 per år for det fusjonerte selskapet.\n",
    "\n",
    "\n",
    "## a) Vil en slik fusjon være lønnsom for de fusjonerte partene?\n",
    "\n"
   ]
  },
  {
   "cell_type": "code",
   "execution_count": 523,
   "metadata": {},
   "outputs": [
    {
     "data": {
      "text/latex": [
       "$\\displaystyle a - b q_{1} - b \\left(q_{1} + q_{2} + q_{3}\\right) - c_{1}$"
      ],
      "text/plain": [
       "a - b*q1 - b*(q1 + q2 + q3) - c1"
      ]
     },
     "metadata": {},
     "output_type": "display_data"
    },
    {
     "data": {
      "text/latex": [
       "$\\displaystyle a - b q_{2} - b \\left(q_{1} + q_{2} + q_{3}\\right) - c_{2}$"
      ],
      "text/plain": [
       "a - b*q2 - b*(q1 + q2 + q3) - c2"
      ]
     },
     "metadata": {},
     "output_type": "display_data"
    },
    {
     "data": {
      "text/latex": [
       "$\\displaystyle a - b q_{3} - b \\left(q_{1} + q_{2} + q_{3}\\right) - c_{3}$"
      ],
      "text/plain": [
       "a - b*q3 - b*(q1 + q2 + q3) - c3"
      ]
     },
     "metadata": {},
     "output_type": "display_data"
    }
   ],
   "source": [
    "#q_G, q_B, q_M = sp.symbols('q_G q_B q_M')\n",
    "q1,q2,q3,c1,c2,c3, a, b, f1, f2, f3, f13=sp.symbols('q1 q2 q3 c1 c2 c3 a b f1 f2 f3 f13') \n",
    "\n",
    "\n",
    "\n",
    "\n",
    "def P_demand(Q,a,b):\n",
    "    return a-b*Q\n",
    "\n",
    "def profit(q1,q2,q3,c,a,b, f):\n",
    "    return (P_demand(q1+q2+q3,a,b)-c)*q1 - f\n",
    "\n",
    "\n",
    "d_profit1_Q=sp.diff(profit(q1,q2,q3,c1,a,b, f1),q1)\n",
    "d_profit2_Q=sp.diff(profit(q2,q1,q3,c2,a,b, f2),q2)\n",
    "d_profit3_Q=sp.diff(profit(q3,q2,q1,c3,a,b, f3),q3)\n",
    "display(d_profit1_Q)\n",
    "display(d_profit2_Q)\n",
    "display(d_profit3_Q)"
   ]
  },
  {
   "cell_type": "code",
   "execution_count": 524,
   "metadata": {},
   "outputs": [
    {
     "data": {
      "text/latex": [
       "$\\displaystyle \\frac{a - 3 c_{1} + c_{2} + c_{3}}{4 b}$"
      ],
      "text/plain": [
       "(a - 3*c1 + c2 + c3)/(4*b)"
      ]
     },
     "metadata": {},
     "output_type": "display_data"
    },
    {
     "data": {
      "text/latex": [
       "$\\displaystyle \\frac{a + c_{1} - 3 c_{2} + c_{3}}{4 b}$"
      ],
      "text/plain": [
       "(a + c1 - 3*c2 + c3)/(4*b)"
      ]
     },
     "metadata": {},
     "output_type": "display_data"
    },
    {
     "data": {
      "text/latex": [
       "$\\displaystyle \\frac{a + c_{1} + c_{2} - 3 c_{3}}{4 b}$"
      ],
      "text/plain": [
       "(a + c1 + c2 - 3*c3)/(4*b)"
      ]
     },
     "metadata": {},
     "output_type": "display_data"
    }
   ],
   "source": [
    "sol=sp.solve([d_profit1_Q,d_profit2_Q,d_profit3_Q],[q1,q2,q3])\n",
    "\n",
    "display(sol[q1])\n",
    "display(sol[q2])\n",
    "display(sol[q3])"
   ]
  },
  {
   "cell_type": "code",
   "execution_count": 525,
   "metadata": {},
   "outputs": [],
   "source": [
    "cournot=sp.lambdify(\n",
    "    (a,b,c1,c2,c3, f1, f2, f3), \n",
    "    (sol[q1],sol[q2],sol[q3])\n",
    ")"
   ]
  },
  {
   "cell_type": "code",
   "execution_count": 526,
   "metadata": {},
   "outputs": [
    {
     "data": {
      "text/plain": [
       "(10.875, 10.125, 10.125)"
      ]
     },
     "execution_count": 526,
     "metadata": {},
     "output_type": "execute_result"
    }
   ],
   "source": [
    "cournot(175,4,7,10,10, 300000, 300000, 300000)"
   ]
  },
  {
   "cell_type": "code",
   "execution_count": 527,
   "metadata": {},
   "outputs": [
    {
     "name": "stdout",
     "output_type": "stream",
     "text": [
      "50.5\n"
     ]
    }
   ],
   "source": [
    "a_value=175\n",
    "b_value=4\n",
    "c1_value=7\n",
    "c2_value=10\n",
    "c3_value=10 \n",
    "f1_value=300\n",
    "f2_value=300\n",
    "f3_value=300\n",
    "f13_value=500\n",
    "\n",
    "\n",
    "\n",
    "q1sol, q2sol, q3sol=cournot(a_value,b_value,c1_value,c2_value,c3_value, f1_value, f2_value, f3_value)\n",
    "print (P_demand(q1sol+q2sol+q3sol,a_value,b_value))"
   ]
  },
  {
   "cell_type": "code",
   "execution_count": 528,
   "metadata": {},
   "outputs": [
    {
     "name": "stdout",
     "output_type": "stream",
     "text": [
      "Løsningen er at \n",
      "bedrift 1 produserer 10.875 med profitt 173.0625, \n",
      "bedrift 2 produserer 10.125 med profitt 110.0625 og  \n",
      "bedrift 3 produserer 10.125 med profitt 110.0625\n",
      "prisen blir 50.5\n"
     ]
    }
   ],
   "source": [
    "print(f\"\"\"Løsningen er at \n",
    "bedrift 1 produserer {q1sol} med profitt {profit(q1sol,q2sol,q3sol,c1_value,a_value,b_value, f1_value)}, \n",
    "bedrift 2 produserer {q2sol} med profitt {profit(q2sol,q1sol,q3sol,c2_value,a_value,b_value, f2_value)} og  \n",
    "bedrift 3 produserer {q3sol} med profitt {profit(q3sol,q1sol,q2sol,c3_value,a_value,b_value, f3_value)}\n",
    "prisen blir {P_demand(q1sol+q2sol+q3sol,a_value,b_value)}\"\"\")"
   ]
  },
  {
   "cell_type": "code",
   "execution_count": 529,
   "metadata": {},
   "outputs": [
    {
     "data": {
      "text/plain": [
       "(10.875, 10.125, 10.125)"
      ]
     },
     "execution_count": 529,
     "metadata": {},
     "output_type": "execute_result"
    }
   ],
   "source": [
    "q1sol, q2sol, q3sol"
   ]
  },
  {
   "cell_type": "code",
   "execution_count": 549,
   "metadata": {},
   "outputs": [
    {
     "data": {
      "text/latex": [
       "$\\displaystyle a - b q_{1} - b \\left(q_{1} + q_{3}\\right) - c_{1}$"
      ],
      "text/plain": [
       "a - b*q1 - b*(q1 + q3) - c1"
      ]
     },
     "metadata": {},
     "output_type": "display_data"
    },
    {
     "data": {
      "text/latex": [
       "$\\displaystyle a - b q_{3} - b \\left(q_{1} + q_{3}\\right) - c_{3}$"
      ],
      "text/plain": [
       "a - b*q3 - b*(q1 + q3) - c3"
      ]
     },
     "metadata": {},
     "output_type": "display_data"
    }
   ],
   "source": [
    "def P_demand1(Q,a,b):\n",
    "    return a-b*Q\n",
    "\n",
    "def profitF(q1,q3,c,a,b, f):\n",
    "    return (P_demand(q1+q3,a,b)-c)*q1 - f\n",
    "\n",
    "\n",
    "\n",
    "d_profitF1_Q=sp.diff(profitF(q1,q3,c1,a,b, f1),q1)\n",
    "d_profitF3_Q=sp.diff(profitF(q3,q1,c3,a,b, f3),q3)\n",
    "\n",
    "display(d_profitF1_Q)\n",
    "display(d_profitF3_Q)"
   ]
  },
  {
   "cell_type": "code",
   "execution_count": 531,
   "metadata": {},
   "outputs": [
    {
     "data": {
      "text/latex": [
       "$\\displaystyle \\frac{a - 2 c_{1} + c_{3}}{3 b}$"
      ],
      "text/plain": [
       "(a - 2*c1 + c3)/(3*b)"
      ]
     },
     "metadata": {},
     "output_type": "display_data"
    },
    {
     "data": {
      "text/latex": [
       "$\\displaystyle \\frac{a + c_{1} - 2 c_{3}}{3 b}$"
      ],
      "text/plain": [
       "(a + c1 - 2*c3)/(3*b)"
      ]
     },
     "metadata": {},
     "output_type": "display_data"
    }
   ],
   "source": [
    "sol=sp.solve([d_profitF1_Q,d_profitF3_Q],[q1,q3])\n",
    "\n",
    "display(sol[q1])\n",
    "display(sol[q3])"
   ]
  },
  {
   "cell_type": "code",
   "execution_count": 543,
   "metadata": {},
   "outputs": [],
   "source": [
    "\n",
    "cournot=sp.lambdify(\n",
    "    (a,b,c1,c3, f13), \n",
    "    (sol[q1],sol[q3])\n",
    ")"
   ]
  },
  {
   "cell_type": "code",
   "execution_count": 555,
   "metadata": {},
   "outputs": [],
   "source": [
    "a_value=175\n",
    "b_value=4\n",
    "c1_value=7\n",
    "c3_value=10\n",
    "f1_value=300\n",
    "f3_value=300\n",
    "f13_value=500"
   ]
  },
  {
   "cell_type": "code",
   "execution_count": 556,
   "metadata": {},
   "outputs": [
    {
     "data": {
      "text/plain": [
       "(14.25, 13.5)"
      ]
     },
     "execution_count": 556,
     "metadata": {},
     "output_type": "execute_result"
    }
   ],
   "source": [
    "cournot(175,4,7, 10, 500000)"
   ]
  },
  {
   "cell_type": "code",
   "execution_count": 557,
   "metadata": {},
   "outputs": [
    {
     "name": "stdout",
     "output_type": "stream",
     "text": [
      "64.0\n"
     ]
    }
   ],
   "source": [
    "\n",
    "\n",
    "q1sol, q3sol=cournot(a_value,b_value,c1_value, 10, 500)\n",
    "print (P_demand(q1sol+q3sol,a_value,b_value))"
   ]
  },
  {
   "cell_type": "code",
   "execution_count": 564,
   "metadata": {},
   "outputs": [
    {
     "name": "stdout",
     "output_type": "stream",
     "text": [
      "Løsningen er at \n",
      "bedriftene produserer 14.25 enheter som gir profitt lik 504.625 og \n",
      "prisen i markedet blir 77.5\n"
     ]
    }
   ],
   "source": [
    "\n",
    "print(f\"\"\"Løsningen er at \n",
    "bedriftene produserer {q1sol} enheter som gir profitt lik {profitF(q1sol,q2sol,c1_value,a_value,b_value, 500)} og \n",
    "prisen i markedet blir {P_demand1(q1sol+q2sol,a_value,b_value)}\"\"\")"
   ]
  },
  {
   "cell_type": "code",
   "execution_count": 562,
   "metadata": {},
   "outputs": [
    {
     "data": {
      "text/plain": [
       "(14.25, 10.125, 24.375)"
      ]
     },
     "execution_count": 562,
     "metadata": {},
     "output_type": "execute_result"
    }
   ],
   "source": [
    "q1sol,q2sol, q1sol+q2sol"
   ]
  },
  {
   "cell_type": "code",
   "execution_count": null,
   "metadata": {},
   "outputs": [],
   "source": []
  },
  {
   "cell_type": "code",
   "execution_count": null,
   "metadata": {},
   "outputs": [],
   "source": []
  },
  {
   "cell_type": "code",
   "execution_count": null,
   "metadata": {},
   "outputs": [],
   "source": []
  },
  {
   "cell_type": "code",
   "execution_count": null,
   "metadata": {},
   "outputs": [],
   "source": []
  },
  {
   "cell_type": "code",
   "execution_count": null,
   "metadata": {},
   "outputs": [],
   "source": []
  },
  {
   "cell_type": "code",
   "execution_count": 32,
   "metadata": {},
   "outputs": [],
   "source": [
    " \n",
    "import sympy as sp\n",
    "a, b, q_G, q_B, q_M, q_BM, c, f, f_G, f_B, f_M, f_BM, p, Q, c_G, c_B, c_M, c_BM, pi_G, pi_B, pi_M, pi_BM = sp.symbols('a b q_G q_B q_M q_{BM} c f f_G f_B f_M f_{BM} p Q c_G c_B c_M c_{BM} \\u03C0_G \\u03C0_B \\u03C0_M \\u03C0_BM')\n",
    "\n",
    "\n",
    "\n",
    "\n",
    "demandtest = sp.Eq(p, a-b*(q_G+q_C+q_M))\n",
    "demand = sp.Eq(p, a-b*(Q))\n",
    "\n",
    "income = sp.Eq(p*Q, Q*(a-b*Q))\n",
    "costs = Q*c+f\n",
    "\n",
    "\n",
    "\n",
    "\n",
    "profitt_G = sp.Eq(pi_G, demand.rhs.subs(Q, q_G+q_B+q_M)*q_G-costs.subs({Q:q_G, c:c_G, f:f_G}))\n",
    "profitt_B = sp.Eq(pi_B, demand.rhs.subs(Q, q_G+q_B+q_M)*q_B-costs.subs({Q:q_B, c:c_B, f:f_B}))\n",
    "profitt_M = sp.Eq(pi_M, demand.rhs.subs(Q, q_G+q_B+q_M)*q_M-costs.subs({Q:q_M, c:c_M, f:f_M}))\n",
    "\n",
    "\n"
   ]
  },
  {
   "cell_type": "code",
   "execution_count": 31,
   "metadata": {},
   "outputs": [
    {
     "data": {
      "text/latex": [
       "$\\displaystyle π_{G} = - c_{G} q_{G} - f_{G} + q_{G} \\left(a - b \\left(q_{B} + q_{G} + q_{M}\\right)\\right)$"
      ],
      "text/plain": [
       "Eq(π_G, -c_G*q_G - f_G + q_G*(a - b*(q_B + q_G + q_M)))"
      ]
     },
     "execution_count": 31,
     "metadata": {},
     "output_type": "execute_result"
    }
   ],
   "source": [
    "profitt_G"
   ]
  },
  {
   "cell_type": "code",
   "execution_count": 33,
   "metadata": {},
   "outputs": [
    {
     "data": {
      "text/latex": [
       "$\\displaystyle π_{B} = - c_{B} q_{B} - f_{B} + q_{B} \\left(a - b \\left(q_{B} + q_{G} + q_{M}\\right)\\right)$"
      ],
      "text/plain": [
       "Eq(π_B, -c_B*q_B - f_B + q_B*(a - b*(q_B + q_G + q_M)))"
      ]
     },
     "execution_count": 33,
     "metadata": {},
     "output_type": "execute_result"
    }
   ],
   "source": [
    "profitt_B"
   ]
  },
  {
   "cell_type": "code",
   "execution_count": 34,
   "metadata": {},
   "outputs": [
    {
     "data": {
      "text/latex": [
       "$\\displaystyle π_{M} = - c_{M} q_{M} - f_{M} + q_{M} \\left(a - b \\left(q_{B} + q_{G} + q_{M}\\right)\\right)$"
      ],
      "text/plain": [
       "Eq(π_M, -c_M*q_M - f_M + q_M*(a - b*(q_B + q_G + q_M)))"
      ]
     },
     "execution_count": 34,
     "metadata": {},
     "output_type": "execute_result"
    }
   ],
   "source": [
    "profitt_M"
   ]
  },
  {
   "cell_type": "code",
   "execution_count": 27,
   "metadata": {},
   "outputs": [
    {
     "data": {
      "text/latex": [
       "$\\displaystyle Q p = - Q c + Q \\left(- Q b + a\\right) + f$"
      ],
      "text/plain": [
       "Eq(Q*p, -Q*c + Q*(-Q*b + a) + f)"
      ]
     },
     "execution_count": 27,
     "metadata": {},
     "output_type": "execute_result"
    }
   ],
   "source": [
    "sp.Eq(p*Q, income.rhs-costs)"
   ]
  },
  {
   "cell_type": "code",
   "execution_count": 43,
   "metadata": {},
   "outputs": [
    {
     "data": {
      "text/plain": [
       "{q_G: (a + c_B - 3*c_G + c_M)/(4*b),\n",
       " q_B: (a - 3*c_B + c_G + c_M)/(4*b),\n",
       " q_M: (a + c_B + c_G - 3*c_M)/(4*b)}"
      ]
     },
     "execution_count": 43,
     "metadata": {},
     "output_type": "execute_result"
    }
   ],
   "source": [
    "derivert_profitt_G = sp.diff(profitt_G.rhs, q_G)\n",
    "derivert_profitt_B = sp.diff(profitt_B.rhs, q_B)\n",
    "derivert_profitt_M = sp.diff(profitt_M.rhs, q_M)\n",
    "\n",
    "solved = sp.solve([derivert_profitt_G, derivert_profitt_B, derivert_profitt_M], [q_G, q_B, q_M])\n",
    "solved\n"
   ]
  },
  {
   "cell_type": "code",
   "execution_count": 44,
   "metadata": {},
   "outputs": [
    {
     "data": {
      "text/plain": [
       "<function _lambdifygenerated(a, b, c_G, c_B, c_M)>"
      ]
     },
     "execution_count": 44,
     "metadata": {},
     "output_type": "execute_result"
    }
   ],
   "source": [
    "cournot = sp.lambdify(\n",
    "    (a, b, c_G, c_B, c_M), \n",
    "    (solved[q_G], solved[q_B], solved[q_M]))\n",
    "cournot"
   ]
  },
  {
   "cell_type": "code",
   "execution_count": 97,
   "metadata": {},
   "outputs": [
    {
     "data": {
      "image/png": "[encoded data removed]",
      "text/plain": [
       "<Figure size 640x480 with 1 Axes>"
      ]
     },
     "metadata": {},
     "output_type": "display_data"
    }
   ],
   "source": [
    "a_num = 175\n",
    "b_num = 4\n",
    "c_M_num = 7\n",
    "c_B_num = 10\n",
    "c_G_num = 10\n",
    "f_G_num = 300\n",
    "f_B_num = 300\n",
    "f_M_num = 300\n",
    "f_BM_num = 500\n",
    "c_BM_num = 7\n",
    "\n",
    "\n",
    "kvantum_G, kvantum_B, kvantum_M = cournot(a_num, b_num, c_G_num, c_B_num, c_M_num)\n",
    "\n",
    "markedspris = demand.rhs.subs({a:a_num, b:b_num, Q:kvantum_G+kvantum_B+kvantum_M})\n",
    "\n",
    "kvantum_G, kvantum_B, kvantum_M \n",
    "\n",
    "\n",
    "#plotting a pie chart out of that\n",
    "import matplotlib.pyplot as plt\n",
    "fig, ax = plt.subplots()\n",
    "\n",
    "labels = ['Graff Brygghus', 'Bryggeri 13', 'Mack Mikrobryggeri']\n",
    "sizes = [kvantum_G, kvantum_B, kvantum_M]\n",
    "\n",
    "ax.pie(sizes, labels=labels, autopct='%1.1f%%', colors=['#def2f4', '#3599a4', '#24666d'])\n",
    "plt.savefig('dokumentobjekter/figurer/markedsandel_mikrobryggerier.png', dpi=300, bbox_inches='tight')"
   ]
  },
  {
   "cell_type": "code",
   "execution_count": 37,
   "metadata": {},
   "outputs": [
    {
     "data": {
      "text/plain": [
       "10.875"
      ]
     },
     "execution_count": 37,
     "metadata": {},
     "output_type": "execute_result"
    }
   ],
   "source": [
    "#\\frac{175-3\\cdot 10 + 10 + 7}{4\\cdot 4}\n",
    "(175-3*10 + 10 + 7)/(4*4)\n",
    "#\\frac{175 + 10 - 3\\cdot 10 + 7}{4\\cdot 4} = 10.125\n",
    "(175 + 10 - 3*10 + 7)/(4*4)\n",
    "#\\frac{175 + 10 + 10 -3\\cdot 7}{4\\cdot 4} = 10.875\n",
    "(175 + 10 + 10 -3*7)/(4*4)"
   ]
  },
  {
   "cell_type": "code",
   "execution_count": 40,
   "metadata": {},
   "outputs": [
    {
     "data": {
      "text/plain": [
       "50.5"
      ]
     },
     "execution_count": 40,
     "metadata": {},
     "output_type": "execute_result"
    }
   ],
   "source": [
    "markedspris\n",
    "#= 175 - 4\\cdot 31.125 = 175 - 124.5 = 50.5\n",
    "175 - 4*31.125"
   ]
  },
  {
   "cell_type": "code",
   "execution_count": 89,
   "metadata": {},
   "outputs": [],
   "source": [
    "profitt_G_before = profitt_G.subs({q_G:kvantum_G, q_B:kvantum_B, q_M:kvantum_M, c_G:c_G_num, a:a_num, b:b_num, p:markedspris, f_G:f_G_num})\n",
    "profitt_B_before = profitt_B.subs({q_G:kvantum_G, q_B:kvantum_B, q_M:kvantum_M, c_B:c_B_num, a:a_num, b:b_num, p:markedspris, f_B:f_B_num})\n",
    "profitt_M_before = profitt_M.subs({q_G:kvantum_G, q_B:kvantum_B, q_M:kvantum_M, c_M:c_M_num, a:a_num, b:b_num, p:markedspris, f_M:f_M_num})"
   ]
  },
  {
   "cell_type": "code",
   "execution_count": 58,
   "metadata": {},
   "outputs": [
    {
     "data": {
      "text/latex": [
       "$\\displaystyle π_{G} = - c_{G} q_{G} - f_{G} + q_{G} \\left(a - b \\left(q_{B} + q_{G} + q_{M}\\right)\\right)$"
      ],
      "text/plain": [
       "Eq(π_G, -c_G*q_G - f_G + q_G*(a - b*(q_B + q_G + q_M)))"
      ]
     },
     "execution_count": 58,
     "metadata": {},
     "output_type": "execute_result"
    }
   ],
   "source": [
    "profitt_G"
   ]
  },
  {
   "cell_type": "code",
   "execution_count": 51,
   "metadata": {},
   "outputs": [
    {
     "data": {
      "text/latex": [
       "$\\displaystyle π_{G} = 110.0625$"
      ],
      "text/plain": [
       "Eq(π_G, 110.0625)"
      ]
     },
     "execution_count": 51,
     "metadata": {},
     "output_type": "execute_result"
    }
   ],
   "source": [
    "profitt_G.subs({q_G:kvantum_G, q_B:kvantum_B, q_M:kvantum_M, c_G:c_G_num, a:a_num, b:b_num, p:markedspris, f_G:f_G_num})"
   ]
  },
  {
   "cell_type": "code",
   "execution_count": 57,
   "metadata": {},
   "outputs": [
    {
     "data": {
      "text/latex": [
       "$\\displaystyle π_{G} = 110.0625$"
      ],
      "text/plain": [
       "Eq(π_G, 110.0625)"
      ]
     },
     "metadata": {},
     "output_type": "display_data"
    },
    {
     "data": {
      "text/latex": [
       "$\\displaystyle π_{B} = 110.0625$"
      ],
      "text/plain": [
       "Eq(π_B, 110.0625)"
      ]
     },
     "metadata": {},
     "output_type": "display_data"
    },
    {
     "data": {
      "text/latex": [
       "$\\displaystyle π_{M} = 173.0625$"
      ],
      "text/plain": [
       "Eq(π_M, 173.0625)"
      ]
     },
     "metadata": {},
     "output_type": "display_data"
    }
   ],
   "source": [
    "display(profitt_G_before)\n",
    "display(profitt_B_before)\n",
    "display(profitt_M_before)"
   ]
  },
  {
   "cell_type": "code",
   "execution_count": 90,
   "metadata": {},
   "outputs": [
    {
     "data": {
      "text/latex": [
       "$\\displaystyle π_{G} = - c_{G} q_{G} - f_{G} + q_{G} \\left(a - b \\left(q_{G} + q_{BM}\\right)\\right)$"
      ],
      "text/plain": [
       "Eq(π_G, -c_G*q_G - f_G + q_G*(a - b*(q_G + q_{BM})))"
      ]
     },
     "metadata": {},
     "output_type": "display_data"
    },
    {
     "data": {
      "text/latex": [
       "$\\displaystyle π_{BM} = - c_{BM} q_{BM} - f_{BM} + q_{BM} \\left(a - b \\left(q_{G} + q_{BM}\\right)\\right)$"
      ],
      "text/plain": [
       "Eq(π_BM, -c_{BM}*q_{BM} - f_{BM} + q_{BM}*(a - b*(q_G + q_{BM})))"
      ]
     },
     "metadata": {},
     "output_type": "display_data"
    }
   ],
   "source": [
    "#profitt_G = sp.Eq(pi_G, demand.rhs.subs(Q, q_G+q_B+q_M)*q_G-costs.subs({Q:q_G, c:c_G, f:f_G}))\n",
    "#profitt_B = sp.Eq(pi_B, demand.rhs.subs(Q, q_G+q_B+q_M)*q_B-costs.subs({Q:q_B, c:c_B, f:f_B}))\n",
    "#profitt_M = sp.Eq(pi_M, demand.rhs.subs(Q, q_G+q_B+q_M)*q_M-costs.subs({Q:q_M, c:c_M, f:f_M}))\n",
    "\n",
    "\n",
    "#M og B går ilag\n",
    "profitt_G_etter = sp.Eq(pi_G, demand.rhs.subs(Q, q_G+q_BM)*q_G-costs.subs({Q:q_G, c:c_G, f:f_G}))\n",
    "profitt_MB_etter = sp.Eq(pi_BM, demand.rhs.subs(Q, q_G+q_BM)*q_BM-costs.subs({Q:q_BM, c:c_BM, f:f_BM}))\n",
    "display(profitt_G_etter)\n",
    "display(profitt_MB_etter)\n",
    "\n"
   ]
  },
  {
   "cell_type": "code",
   "execution_count": 724,
   "metadata": {},
   "outputs": [
    {
     "data": {
      "text/latex": [
       "$\\displaystyle a - b q_{G} - b \\left(q_{B} + q_{G} + q_{M}\\right) - c_{G}$"
      ],
      "text/plain": [
       "a - b*q_G - b*(q_B + q_G + q_M) - c_G"
      ]
     },
     "metadata": {},
     "output_type": "display_data"
    },
    {
     "data": {
      "text/latex": [
       "$\\displaystyle a - b q_{B} - b \\left(q_{B} + q_{G} + q_{M}\\right) - c_{B}$"
      ],
      "text/plain": [
       "a - b*q_B - b*(q_B + q_G + q_M) - c_B"
      ]
     },
     "metadata": {},
     "output_type": "display_data"
    },
    {
     "data": {
      "text/latex": [
       "$\\displaystyle a - b q_{M} - b \\left(q_{B} + q_{G} + q_{M}\\right) - c_{M}$"
      ],
      "text/plain": [
       "a - b*q_M - b*(q_B + q_G + q_M) - c_M"
      ]
     },
     "metadata": {},
     "output_type": "display_data"
    }
   ],
   "source": [
    "\n",
    "#solved = sp.solve([derivert_profitt_G, derivert_profitt_B, derivert_profitt_M], [q_G, q_B, q_M])\n",
    "#solved\n",
    "\n",
    "display(derivert_profitt_G)\n",
    "display(derivert_profitt_B)\n",
    "display(derivert_profitt_M)\n"
   ]
  },
  {
   "cell_type": "code",
   "execution_count": 726,
   "metadata": {},
   "outputs": [
    {
     "data": {
      "text/latex": [
       "$\\displaystyle a - b q_{G} - b \\left(q_{G} + q_{BM}\\right) - c_{G}$"
      ],
      "text/plain": [
       "a - b*q_G - b*(q_G + q_{BM}) - c_G"
      ]
     },
     "metadata": {},
     "output_type": "display_data"
    },
    {
     "data": {
      "text/latex": [
       "$\\displaystyle a - b q_{BM} - b \\left(q_{G} + q_{BM}\\right) - c_{BM}$"
      ],
      "text/plain": [
       "a - b*q_{BM} - b*(q_G + q_{BM}) - c_{BM}"
      ]
     },
     "metadata": {},
     "output_type": "display_data"
    }
   ],
   "source": [
    "display(derivert_profitt_G_etter)\n",
    "display(derivert_profitt_MB_etter)"
   ]
  },
  {
   "cell_type": "code",
   "execution_count": 91,
   "metadata": {},
   "outputs": [
    {
     "data": {
      "text/plain": [
       "{q_G: (a - 2*c_G + c_{BM})/(3*b), q_{BM}: (a + c_G - 2*c_{BM})/(3*b)}"
      ]
     },
     "execution_count": 91,
     "metadata": {},
     "output_type": "execute_result"
    }
   ],
   "source": [
    "derivert_profitt_G_etter = sp.diff(profitt_G_etter.rhs, q_G)\n",
    "derivert_profitt_MB_etter = sp.diff(profitt_MB_etter.rhs, q_BM)\n",
    "\n",
    "solved_etter = sp.solve([derivert_profitt_G_etter, derivert_profitt_MB_etter], [q_G, q_BM])\n",
    "solved_etter"
   ]
  },
  {
   "cell_type": "code",
   "execution_count": 92,
   "metadata": {},
   "outputs": [
    {
     "data": {
      "text/plain": [
       "<function _lambdifygenerated(a, b, c_G, c_BM)>"
      ]
     },
     "execution_count": 92,
     "metadata": {},
     "output_type": "execute_result"
    }
   ],
   "source": [
    "cournot_etter = sp.lambdify(\n",
    "    (a, b, c_G, c_BM), \n",
    "    (solved_etter[q_G], solved_etter[q_BM]))\n",
    "cournot_etter"
   ]
  },
  {
   "cell_type": "code",
   "execution_count": 83,
   "metadata": {},
   "outputs": [
    {
     "data": {
      "text/plain": [
       "(175, 4, 10, 7)"
      ]
     },
     "execution_count": 83,
     "metadata": {},
     "output_type": "execute_result"
    }
   ],
   "source": [
    "a_num, b_num, c_G_num, c_BM_num"
   ]
  },
  {
   "cell_type": "code",
   "execution_count": 100,
   "metadata": {},
   "outputs": [
    {
     "data": {
      "text/plain": [
       "14.25"
      ]
     },
     "execution_count": 100,
     "metadata": {},
     "output_type": "execute_result"
    }
   ],
   "source": [
    "#\\frac{175 + 10 -2\\cdot 7}{3\\cdot 4}\n",
    "(175 + 10 -2*7)/(3*4)"
   ]
  },
  {
   "cell_type": "code",
   "execution_count": 98,
   "metadata": {},
   "outputs": [
    {
     "data": {
      "text/plain": [
       "(13.5, 14.25)"
      ]
     },
     "execution_count": 98,
     "metadata": {},
     "output_type": "execute_result"
    }
   ],
   "source": [
    "kvantum_G_etter, kvantum_BM = cournot_etter(a_num, b_num, c_G_num, c_BM_num)\n",
    "kvantum_G_etter, kvantum_BM"
   ]
  },
  {
   "cell_type": "code",
   "execution_count": 106,
   "metadata": {},
   "outputs": [
    {
     "data": {
      "image/png": "[encoded data removed]",
      "text/plain": [
       "<Figure size 640x480 with 1 Axes>"
      ]
     },
     "metadata": {},
     "output_type": "display_data"
    }
   ],
   "source": [
    "fig, ax = plt.subplots()\n",
    "\n",
    "labels = ['Graff Brygghus', 'Mack Mikrobryggeri']\n",
    "sizes = [kvantum_G_etter, kvantum_BM]\n",
    "\n",
    "ax.pie(sizes, labels=labels, autopct='%1.1f%%', colors=['#def2f4', '#24666d'])\n",
    "plt.savefig('dokumentobjekter/figurer/markedsandel_mikrobryggerier_fusjon.png', dpi=300, bbox_inches='tight')"
   ]
  },
  {
   "cell_type": "code",
   "execution_count": 732,
   "metadata": {},
   "outputs": [
    {
     "data": {
      "text/latex": [
       "$\\displaystyle 64.0$"
      ],
      "text/plain": [
       "64.0000000000000"
      ]
     },
     "execution_count": 732,
     "metadata": {},
     "output_type": "execute_result"
    }
   ],
   "source": [
    "markedspris_etter = demand.rhs.subs({a:a_num, b:b_num, Q:kvantum_G_etter+kvantum_BM})\n",
    "markedspris_etter"
   ]
  },
  {
   "cell_type": "code",
   "execution_count": 737,
   "metadata": {},
   "outputs": [],
   "source": [
    "profitt_G_etter_num = profitt_G_etter.subs({q_G:kvantum_G_etter, q_BM:kvantum_BM, a:a_num, b:b_num, p:markedspris_etter, c_G:c_G_num, c_BM:c_BM_num, f_G:f_G_num})\n",
    "profitt_BM_etter_num = profitt_MB_etter.subs({q_G:kvantum_G_etter, q_BM:kvantum_BM, a:a_num, b:b_num, p:markedspris_etter, c_G:c_G_num, c_BM:c_BM_num, f_BM:f_BM_num})"
   ]
  },
  {
   "cell_type": "code",
   "execution_count": 738,
   "metadata": {},
   "outputs": [
    {
     "data": {
      "text/latex": [
       "$\\displaystyle π_{G} = 429.0$"
      ],
      "text/plain": [
       "Eq(π_G, 429.0)"
      ]
     },
     "metadata": {},
     "output_type": "display_data"
    },
    {
     "data": {
      "text/latex": [
       "$\\displaystyle π_{BM} = 312.25$"
      ],
      "text/plain": [
       "Eq(π_BM, 312.25)"
      ]
     },
     "metadata": {},
     "output_type": "display_data"
    }
   ],
   "source": [
    "display(profitt_G_etter_num)\n",
    "display(profitt_BM_etter_num)"
   ]
  },
  {
   "cell_type": "code",
   "execution_count": 102,
   "metadata": {},
   "outputs": [
    {
     "data": {
      "text/plain": [
       "829.0"
      ]
     },
     "execution_count": 102,
     "metadata": {},
     "output_type": "execute_result"
    }
   ],
   "source": [
    "#-10 \\cdot 13.5 + 100 + 13.5 \\cdot (175 - 4 \\cdot (13.5 + 14.25))\n",
    "-10*13.5 + 100 + 13.5*(175 - 4*(13.5 + 14.25))"
   ]
  },
  {
   "cell_type": "code",
   "execution_count": null,
   "metadata": {},
   "outputs": [],
   "source": [
    "profitt_G.subs({q_G:kvantum_G, q_B:kvantum_B, q_M:kvantum_M, c_G:c_G_num, a:a_num, b:b_num, p:markedspris, c_G:c_G_num, c_B:c_B_num, c_M:c_M_num, f_G:f_G_num}).rhs*1000\n"
   ]
  },
  {
   "cell_type": "code",
   "execution_count": 569,
   "metadata": {},
   "outputs": [
    {
     "name": "stdout",
     "output_type": "stream",
     "text": [
      "Optimalt kvantum for Q_O er 18800 og for Q_C er 18800. Så det totale kvantumet blir 37600 og markedsprisen blir 363.333\n",
      "Profit for Q_O:  2060363.33 Profit for Q_C:  2060363.33 \n",
      "Total profit:  4120726.66\n"
     ]
    }
   ],
   "source": []
  },
  {
   "cell_type": "code",
   "execution_count": 142,
   "metadata": {},
   "outputs": [],
   "source": [
    "import sympy as sp\n",
    "\n",
    "a, b, q_G, q_BM, q_BMG, c, c_G, c_BM, c_BMG, f, f_G, f_BM, f_BMG, Q, pi_BMG = sp.symbols('a b q_G q_{BM} q_{BMG} c c_G c_{BM} c_{BMG} f f_G f_{BM} f_{BMG} Q \\u03C0_{BMG}')\n",
    "\n",
    "a_num = 175\n",
    "b_num = 2\n",
    "c_G_num = 7\n",
    "c_BM_num = 7\n",
    "c_BMG_num = 7\n",
    "f_G_num = 500\n",
    "f_BM_num = 500\n",
    "f_BMG_num = 500\n",
    "\n",
    "\n",
    "\n",
    "demand = sp.Eq(p, a-b*(Q))\n",
    "\n",
    "income = sp.Eq(p*Q, Q*(a-b*Q))\n",
    "costs = Q*c+f\n",
    "\n",
    "\n",
    "profitt_G = sp.Eq(pi_G, demand.rhs.subs(Q, q_G+q_BM)*q_G-costs.subs({Q:q_G, c:c_G, f:f_G}))\n",
    "profitt_BM = sp.Eq(pi_BM, demand.rhs.subs(Q, q_G+q_BM)*q_BM-costs.subs({Q:q_BM, c:c_BM, f:f_BM}))\n",
    "\n",
    "\n",
    "profitt_G_diff = sp.diff(profitt_G.rhs, q_G)\n",
    "profitt_BM_diff = sp.diff(profitt_BM.rhs, q_BM)\n",
    "\n"
   ]
  },
  {
   "cell_type": "code",
   "execution_count": 174,
   "metadata": {},
   "outputs": [
    {
     "data": {
      "text/latex": [
       "$\\displaystyle a - b q_{G} - b \\left(q_{G} + q_{BM}\\right) - c_{G}$"
      ],
      "text/plain": [
       "a - b*q_G - b*(q_G + q_{BM}) - c_G"
      ]
     },
     "execution_count": 174,
     "metadata": {},
     "output_type": "execute_result"
    }
   ],
   "source": [
    "profitt_G_diff"
   ]
  },
  {
   "cell_type": "code",
   "execution_count": 175,
   "metadata": {},
   "outputs": [
    {
     "data": {
      "text/latex": [
       "$\\displaystyle a - b q_{BM} - b \\left(q_{G} + q_{BM}\\right) - c_{BM}$"
      ],
      "text/plain": [
       "a - b*q_{BM} - b*(q_G + q_{BM}) - c_{BM}"
      ]
     },
     "execution_count": 175,
     "metadata": {},
     "output_type": "execute_result"
    }
   ],
   "source": [
    "profitt_BM_diff"
   ]
  },
  {
   "cell_type": "code",
   "execution_count": 143,
   "metadata": {},
   "outputs": [
    {
     "data": {
      "text/plain": [
       "{q_G: (a - 2*c_G + c_{BM})/(3*b), q_{BM}: (a + c_G - 2*c_{BM})/(3*b)}"
      ]
     },
     "execution_count": 143,
     "metadata": {},
     "output_type": "execute_result"
    }
   ],
   "source": [
    "solved_etterB = sp.solve([profitt_G_diff, profitt_BM_diff], [q_G, q_BM])\n",
    "solved_etterB"
   ]
  },
  {
   "cell_type": "code",
   "execution_count": 144,
   "metadata": {},
   "outputs": [],
   "source": [
    "cournot_etterB = sp.lambdify(\n",
    "    (a, b, c_G, c_BM), \n",
    "    (solved_etter[q_G], solved_etter[q_BM]))\n",
    "kvantum_G_etter_B, kvantum_BM_B = cournot_etterB(a_num, b_num, c_G_num, c_BM_num)"
   ]
  },
  {
   "cell_type": "code",
   "execution_count": 145,
   "metadata": {},
   "outputs": [
    {
     "data": {
      "text/plain": [
       "28.0"
      ]
     },
     "execution_count": 145,
     "metadata": {},
     "output_type": "execute_result"
    }
   ],
   "source": [
    "kvantum_G_etter_B"
   ]
  },
  {
   "cell_type": "code",
   "execution_count": 146,
   "metadata": {},
   "outputs": [
    {
     "data": {
      "text/latex": [
       "$\\displaystyle 63.0$"
      ],
      "text/plain": [
       "63.0000000000000"
      ]
     },
     "execution_count": 146,
     "metadata": {},
     "output_type": "execute_result"
    }
   ],
   "source": [
    "markedspris_B = demand.rhs.subs({a:a_num, b:b_num, Q:kvantum_G_etter_B+kvantum_BM_B})\n",
    "markedspris_B"
   ]
  },
  {
   "cell_type": "code",
   "execution_count": 171,
   "metadata": {},
   "outputs": [],
   "source": [
    "profitt_G_num = demand.rhs.subs({a:a_num, b:b_num, Q:kvantum_G_etter_B+kvantum_BM_B})*(kvantum_G_etter_B)-costs.subs({Q:kvantum_G_etter_B, c:c_G_num, f:f_G_num})\n",
    "profitt_bm_num = demand.rhs.subs({a:a_num, b:b_num, Q:kvantum_BM_B+ kvantum_G_etter_B})*(kvantum_BM_B)-costs.subs({Q:kvantum_BM_B, c:c_BM_num, f:f_BM_num})"
   ]
  },
  {
   "cell_type": "code",
   "execution_count": 172,
   "metadata": {},
   "outputs": [
    {
     "data": {
      "text/latex": [
       "$\\displaystyle 1068.0$"
      ],
      "text/plain": [
       "1068.00000000000"
      ]
     },
     "execution_count": 172,
     "metadata": {},
     "output_type": "execute_result"
    }
   ],
   "source": [
    "profitt_G_num"
   ]
  },
  {
   "cell_type": "code",
   "execution_count": 173,
   "metadata": {},
   "outputs": [
    {
     "data": {
      "text/latex": [
       "$\\displaystyle 1068.0$"
      ],
      "text/plain": [
       "1068.00000000000"
      ]
     },
     "execution_count": 173,
     "metadata": {},
     "output_type": "execute_result"
    }
   ],
   "source": [
    "profitt_bm_num"
   ]
  },
  {
   "cell_type": "code",
   "execution_count": 147,
   "metadata": {},
   "outputs": [
    {
     "data": {
      "text/latex": [
       "$\\displaystyle π_{BMG} = - c_{BMG} q_{BMG} - f_{BMG} + q_{BMG} \\left(a - b q_{BMG}\\right)$"
      ],
      "text/plain": [
       "Eq(π_{BMG}, -c_{BMG}*q_{BMG} - f_{BMG} + q_{BMG}*(a - b*q_{BMG}))"
      ]
     },
     "execution_count": 147,
     "metadata": {},
     "output_type": "execute_result"
    }
   ],
   "source": [
    "profitt_BMG = sp.Eq(pi_BMG, demand.rhs.subs(Q, q_BMG)*q_BMG-costs.subs({Q:q_BMG, c:c_BMG, f:f_BMG}))\n",
    "profitt_BMG_diff = sp.diff(profitt_BMG.rhs, q_BMG)\n",
    "profitt_BMG"
   ]
  },
  {
   "cell_type": "code",
   "execution_count": 148,
   "metadata": {},
   "outputs": [
    {
     "data": {
      "text/latex": [
       "$\\displaystyle a - 2 b q_{BMG} - c_{BMG}$"
      ],
      "text/plain": [
       "a - 2*b*q_{BMG} - c_{BMG}"
      ]
     },
     "execution_count": 148,
     "metadata": {},
     "output_type": "execute_result"
    }
   ],
   "source": [
    "profitt_BMG_diff"
   ]
  },
  {
   "cell_type": "code",
   "execution_count": 149,
   "metadata": {},
   "outputs": [
    {
     "data": {
      "text/latex": [
       "$\\displaystyle \\frac{a - c_{BMG}}{2 b}$"
      ],
      "text/plain": [
       "(a - c_{BMG})/(2*b)"
      ]
     },
     "execution_count": 149,
     "metadata": {},
     "output_type": "execute_result"
    }
   ],
   "source": [
    "solved_etterB_monopol = sp.solve(profitt_BMG_diff, q_BMG)[0]\n",
    "solved_etterB_monopol"
   ]
  },
  {
   "cell_type": "code",
   "execution_count": 150,
   "metadata": {},
   "outputs": [],
   "source": [
    "cournot_etterB_monopol = sp.lambdify(\n",
    "    (a, b, c_BMG), \n",
    "    (solved_etterB_monopol))\n",
    "kvantum_BMG_B = cournot_etterB_monopol(a_num, b_num, c_BMG_num)"
   ]
  },
  {
   "cell_type": "code",
   "execution_count": 159,
   "metadata": {},
   "outputs": [
    {
     "data": {
      "text/plain": [
       "42.0"
      ]
     },
     "execution_count": 159,
     "metadata": {},
     "output_type": "execute_result"
    }
   ],
   "source": [
    "kvantum_BMG_B"
   ]
  },
  {
   "cell_type": "code",
   "execution_count": 151,
   "metadata": {},
   "outputs": [
    {
     "data": {
      "text/latex": [
       "$\\displaystyle 91.0$"
      ],
      "text/plain": [
       "91.0000000000000"
      ]
     },
     "execution_count": 151,
     "metadata": {},
     "output_type": "execute_result"
    }
   ],
   "source": [
    "markedspris_B = demand.rhs.subs({a:a_num, b:b_num, Q:kvantum_BMG_B})\n",
    "markedspris_B"
   ]
  },
  {
   "cell_type": "code",
   "execution_count": 152,
   "metadata": {},
   "outputs": [],
   "source": []
  },
  {
   "cell_type": "code",
   "execution_count": 157,
   "metadata": {},
   "outputs": [],
   "source": [
    "profitt_BMG_num = sp.Eq(pi_BMG, demand.rhs.subs({Q:kvantum_BMG_B, a:a_num, b:b_num})*kvantum_BMG_B-costs.subs({Q:kvantum_BMG_B, c:c_BMG_num, f:f_BMG_num}))\n"
   ]
  },
  {
   "cell_type": "code",
   "execution_count": 158,
   "metadata": {},
   "outputs": [
    {
     "data": {
      "text/latex": [
       "$\\displaystyle π_{BMG} = 3028.0$"
      ],
      "text/plain": [
       "Eq(π_{BMG}, 3028.0)"
      ]
     },
     "execution_count": 158,
     "metadata": {},
     "output_type": "execute_result"
    }
   ],
   "source": [
    "profitt_BMG_num"
   ]
  },
  {
   "cell_type": "code",
   "execution_count": null,
   "metadata": {},
   "outputs": [],
   "source": []
  }
 ],
 "metadata": {
  "kernelspec": {
   "display_name": "Python 3",
   "language": "python",
   "name": "python3"
  },
  "language_info": {
   "codemirror_mode": {
    "name": "ipython",
    "version": 3
   },
   "file_extension": ".py",
   "mimetype": "text/x-python",
   "name": "python",
   "nbconvert_exporter": "python",
   "pygments_lexer": "ipython3",
   "version": "3.11.2"
  }
 },
 "nbformat": 4,
 "nbformat_minor": 2
}
